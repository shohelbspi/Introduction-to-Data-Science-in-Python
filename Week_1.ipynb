{
 "cells": [
  {
   "cell_type": "code",
   "execution_count": 1,
   "id": "991d2459",
   "metadata": {},
   "outputs": [
    {
     "name": "stdout",
     "output_type": "stream",
     "text": [
      "5\n"
     ]
    }
   ],
   "source": [
    "x = 5\n",
    "print(x)"
   ]
  },
  {
   "cell_type": "code",
   "execution_count": 2,
   "id": "434e9b94",
   "metadata": {},
   "outputs": [
    {
     "name": "stdout",
     "output_type": "stream",
     "text": [
      "6\n"
     ]
    }
   ],
   "source": [
    "print(x+1)"
   ]
  },
  {
   "cell_type": "code",
   "execution_count": 3,
   "id": "188c4f0a",
   "metadata": {},
   "outputs": [
    {
     "name": "stdout",
     "output_type": "stream",
     "text": [
      "998000\n"
     ]
    }
   ],
   "source": [
    "for i in range(0,1000):\n",
    "    m= i*i-1\n",
    "print(m)"
   ]
  },
  {
   "cell_type": "code",
   "execution_count": 4,
   "id": "aaaba51a",
   "metadata": {},
   "outputs": [],
   "source": [
    "# i = 1\n",
    "# while i < 100:\n",
    "#     i=1"
   ]
  },
  {
   "cell_type": "code",
   "execution_count": 5,
   "id": "a5abe783",
   "metadata": {},
   "outputs": [
    {
     "name": "stdout",
     "output_type": "stream",
     "text": [
      "5\n"
     ]
    }
   ],
   "source": [
    "print(x)"
   ]
  },
  {
   "cell_type": "markdown",
   "id": "867f3333",
   "metadata": {},
   "source": [
    "# Big Heading\n",
    "\n",
    "__Special Letter__"
   ]
  },
  {
   "cell_type": "markdown",
   "id": "0ec3e688",
   "metadata": {},
   "source": [
    "# Python Function"
   ]
  },
  {
   "cell_type": "code",
   "execution_count": 6,
   "id": "c2a5a86f",
   "metadata": {},
   "outputs": [
    {
     "data": {
      "text/plain": [
       "3"
      ]
     },
     "execution_count": 6,
     "metadata": {},
     "output_type": "execute_result"
    }
   ],
   "source": [
    "x=1\n",
    "y=2\n",
    "x+y"
   ]
  },
  {
   "cell_type": "code",
   "execution_count": 7,
   "id": "727ead77",
   "metadata": {},
   "outputs": [
    {
     "data": {
      "text/plain": [
       "1"
      ]
     },
     "execution_count": 7,
     "metadata": {},
     "output_type": "execute_result"
    }
   ],
   "source": [
    "x"
   ]
  },
  {
   "cell_type": "code",
   "execution_count": 10,
   "id": "48f90f00",
   "metadata": {},
   "outputs": [
    {
     "data": {
      "text/plain": [
       "3"
      ]
     },
     "execution_count": 10,
     "metadata": {},
     "output_type": "execute_result"
    }
   ],
   "source": [
    "def add_numbers(x,y):\n",
    "    return x+y\n",
    "\n",
    "add_numbers(1,2)"
   ]
  },
  {
   "cell_type": "code",
   "execution_count": 11,
   "id": "4461d650",
   "metadata": {},
   "outputs": [
    {
     "data": {
      "text/plain": [
       "13"
      ]
     },
     "execution_count": 11,
     "metadata": {},
     "output_type": "execute_result"
    }
   ],
   "source": [
    "add_numbers(6,7)"
   ]
  },
  {
   "cell_type": "markdown",
   "id": "8b7fa616",
   "metadata": {},
   "source": [
    "### Default Perameter"
   ]
  },
  {
   "cell_type": "code",
   "execution_count": 12,
   "id": "fdcfa734",
   "metadata": {},
   "outputs": [
    {
     "name": "stdout",
     "output_type": "stream",
     "text": [
      "3\n",
      "6\n"
     ]
    }
   ],
   "source": [
    "def add_numbers(x,y,z=None):\n",
    "    if(z==None):\n",
    "        return x+y\n",
    "    else: \n",
    "        return x+y+z\n",
    "print(add_numbers(1,2))\n",
    "print(add_numbers(1,2,3))"
   ]
  },
  {
   "cell_type": "code",
   "execution_count": 16,
   "id": "6040568a",
   "metadata": {},
   "outputs": [
    {
     "name": "stdout",
     "output_type": "stream",
     "text": [
      "12\n"
     ]
    }
   ],
   "source": [
    "def add_numbers(x,y,z=None,flag=False):\n",
    "    if(flag):\n",
    "        print('flag is true!')\n",
    "    if(z==None):\n",
    "        return x+y\n",
    "    else:\n",
    "        return x+y+z\n",
    "print(add_numbers(5,7, flag=False))"
   ]
  },
  {
   "cell_type": "code",
   "execution_count": 17,
   "id": "2f02ca0c",
   "metadata": {},
   "outputs": [
    {
     "name": "stdout",
     "output_type": "stream",
     "text": [
      "flag is true!\n",
      "12\n"
     ]
    }
   ],
   "source": [
    "def add_numbers(x,y,z=None,flag=False):\n",
    "    if(flag):\n",
    "        print('flag is true!')\n",
    "    if(z==None):\n",
    "        return x+y\n",
    "    else:\n",
    "        return x+y+z\n",
    "print(add_numbers(5,7, flag=True))"
   ]
  },
  {
   "cell_type": "markdown",
   "id": "8cf1fb7f",
   "metadata": {},
   "source": [
    "# Python Function And Sequences\n",
    "\n"
   ]
  },
  {
   "cell_type": "code",
   "execution_count": 18,
   "id": "6a472cd1",
   "metadata": {},
   "outputs": [
    {
     "data": {
      "text/plain": [
       "str"
      ]
     },
     "execution_count": 18,
     "metadata": {},
     "output_type": "execute_result"
    }
   ],
   "source": [
    "type('This is a String')"
   ]
  },
  {
   "cell_type": "code",
   "execution_count": 19,
   "id": "5eef6ab8",
   "metadata": {},
   "outputs": [
    {
     "data": {
      "text/plain": [
       "NoneType"
      ]
     },
     "execution_count": 19,
     "metadata": {},
     "output_type": "execute_result"
    }
   ],
   "source": [
    "type(None)"
   ]
  },
  {
   "cell_type": "code",
   "execution_count": 20,
   "id": "ca557563",
   "metadata": {},
   "outputs": [
    {
     "data": {
      "text/plain": [
       "int"
      ]
     },
     "execution_count": 20,
     "metadata": {},
     "output_type": "execute_result"
    }
   ],
   "source": [
    "type(1)"
   ]
  },
  {
   "cell_type": "code",
   "execution_count": 21,
   "id": "c263867b",
   "metadata": {},
   "outputs": [
    {
     "data": {
      "text/plain": [
       "float"
      ]
     },
     "execution_count": 21,
     "metadata": {},
     "output_type": "execute_result"
    }
   ],
   "source": [
    "type(1.0)"
   ]
  },
  {
   "cell_type": "code",
   "execution_count": 22,
   "id": "dd5050fb",
   "metadata": {},
   "outputs": [
    {
     "data": {
      "text/plain": [
       "function"
      ]
     },
     "execution_count": 22,
     "metadata": {},
     "output_type": "execute_result"
    }
   ],
   "source": [
    "type(add_numbers)"
   ]
  },
  {
   "cell_type": "markdown",
   "id": "95df0987",
   "metadata": {},
   "source": [
    "### Python Tuple\n",
    "#### **1. Tuples are used to store multiple items in a single variable.**\n",
    "#### **2.A tuple is a collection which is ordered and unchangeable.**\n",
    "#### **3. Tuples are written with round brackets.()**"
   ]
  },
  {
   "cell_type": "code",
   "execution_count": 23,
   "id": "8b0b6109",
   "metadata": {},
   "outputs": [],
   "source": [
    "x = (1,'a',2,'b')"
   ]
  },
  {
   "cell_type": "code",
   "execution_count": 24,
   "id": "948f69c5",
   "metadata": {},
   "outputs": [
    {
     "data": {
      "text/plain": [
       "tuple"
      ]
     },
     "execution_count": 24,
     "metadata": {},
     "output_type": "execute_result"
    }
   ],
   "source": [
    "type(x)"
   ]
  },
  {
   "cell_type": "code",
   "execution_count": 25,
   "id": "dd853427",
   "metadata": {},
   "outputs": [
    {
     "data": {
      "text/plain": [
       "4"
      ]
     },
     "execution_count": 25,
     "metadata": {},
     "output_type": "execute_result"
    }
   ],
   "source": [
    "len(x)"
   ]
  },
  {
   "cell_type": "code",
   "execution_count": 26,
   "id": "416869b3",
   "metadata": {},
   "outputs": [
    {
     "data": {
      "text/plain": [
       "'a'"
      ]
     },
     "execution_count": 26,
     "metadata": {},
     "output_type": "execute_result"
    }
   ],
   "source": [
    "# Access Tuple\n",
    "x[1]"
   ]
  },
  {
   "cell_type": "markdown",
   "id": "6bc8ee5c",
   "metadata": {},
   "source": [
    "### Python List"
   ]
  },
  {
   "cell_type": "code",
   "execution_count": 27,
   "id": "434d15db",
   "metadata": {},
   "outputs": [],
   "source": [
    "x = [1,'a',2,'b']"
   ]
  },
  {
   "cell_type": "code",
   "execution_count": 28,
   "id": "b235b481",
   "metadata": {},
   "outputs": [
    {
     "data": {
      "text/plain": [
       "list"
      ]
     },
     "execution_count": 28,
     "metadata": {},
     "output_type": "execute_result"
    }
   ],
   "source": [
    "type(x)"
   ]
  },
  {
   "cell_type": "code",
   "execution_count": 29,
   "id": "d1603415",
   "metadata": {},
   "outputs": [],
   "source": [
    "x.append(3.3)"
   ]
  },
  {
   "cell_type": "code",
   "execution_count": 30,
   "id": "320fff7c",
   "metadata": {},
   "outputs": [
    {
     "data": {
      "text/plain": [
       "[1, 'a', 2, 'b', 3.3]"
      ]
     },
     "execution_count": 30,
     "metadata": {},
     "output_type": "execute_result"
    }
   ],
   "source": [
    "x"
   ]
  },
  {
   "cell_type": "code",
   "execution_count": 31,
   "id": "74e24d85",
   "metadata": {},
   "outputs": [
    {
     "data": {
      "text/plain": [
       "3.3"
      ]
     },
     "execution_count": 31,
     "metadata": {},
     "output_type": "execute_result"
    }
   ],
   "source": [
    "x.pop(4)"
   ]
  },
  {
   "cell_type": "code",
   "execution_count": 32,
   "id": "a91a1fa5",
   "metadata": {},
   "outputs": [
    {
     "data": {
      "text/plain": [
       "[1, 'a', 2, 'b']"
      ]
     },
     "execution_count": 32,
     "metadata": {},
     "output_type": "execute_result"
    }
   ],
   "source": [
    "x"
   ]
  },
  {
   "cell_type": "code",
   "execution_count": 33,
   "id": "14225aab",
   "metadata": {},
   "outputs": [],
   "source": [
    "x.append(3.3)"
   ]
  },
  {
   "cell_type": "code",
   "execution_count": 34,
   "id": "3cd85165",
   "metadata": {},
   "outputs": [],
   "source": [
    "del x[4]"
   ]
  },
  {
   "cell_type": "code",
   "execution_count": 35,
   "id": "b92fe026",
   "metadata": {},
   "outputs": [
    {
     "data": {
      "text/plain": [
       "[1, 'a', 2, 'b']"
      ]
     },
     "execution_count": 35,
     "metadata": {},
     "output_type": "execute_result"
    }
   ],
   "source": [
    "x"
   ]
  },
  {
   "cell_type": "code",
   "execution_count": 36,
   "id": "279651f3",
   "metadata": {},
   "outputs": [
    {
     "name": "stdout",
     "output_type": "stream",
     "text": [
      "1\n",
      "a\n",
      "2\n",
      "b\n"
     ]
    }
   ],
   "source": [
    "for item in x:\n",
    "    print (item)"
   ]
  },
  {
   "cell_type": "code",
   "execution_count": 37,
   "id": "dbe64c68",
   "metadata": {},
   "outputs": [
    {
     "name": "stdout",
     "output_type": "stream",
     "text": [
      "1\n",
      "a\n",
      "2\n",
      "b\n"
     ]
    }
   ],
   "source": [
    "i=0\n",
    "while(i != len(x)):\n",
    "    print(x[i])\n",
    "    i = i+1"
   ]
  },
  {
   "cell_type": "code",
   "execution_count": 39,
   "id": "af23ad58",
   "metadata": {},
   "outputs": [
    {
     "data": {
      "text/plain": [
       "[1, 2, 3, 3, 4, 5]"
      ]
     },
     "execution_count": 39,
     "metadata": {},
     "output_type": "execute_result"
    }
   ],
   "source": [
    "# List concat\n",
    "[1,2,3]+[3,4,5]"
   ]
  },
  {
   "cell_type": "code",
   "execution_count": 40,
   "id": "b4871f7f",
   "metadata": {},
   "outputs": [],
   "source": [
    "list1 = [1,2,3]\n",
    "list2 = [3,4,5]"
   ]
  },
  {
   "cell_type": "code",
   "execution_count": 41,
   "id": "75f11a1c",
   "metadata": {},
   "outputs": [],
   "source": [
    "for x in list2 : \n",
    "    list1.append(x) "
   ]
  },
  {
   "cell_type": "code",
   "execution_count": 43,
   "id": "48fab2db",
   "metadata": {},
   "outputs": [
    {
     "data": {
      "text/plain": [
       "[1, 2, 3, 3, 4, 5]"
      ]
     },
     "execution_count": 43,
     "metadata": {},
     "output_type": "execute_result"
    }
   ],
   "source": [
    "list1"
   ]
  },
  {
   "cell_type": "code",
   "execution_count": 44,
   "id": "a9bba51a",
   "metadata": {},
   "outputs": [],
   "source": [
    "a = [1]*3"
   ]
  },
  {
   "cell_type": "code",
   "execution_count": 45,
   "id": "63b2c5a0",
   "metadata": {},
   "outputs": [
    {
     "data": {
      "text/plain": [
       "[1, 1, 1]"
      ]
     },
     "execution_count": 45,
     "metadata": {},
     "output_type": "execute_result"
    }
   ],
   "source": [
    "a"
   ]
  },
  {
   "cell_type": "code",
   "execution_count": 46,
   "id": "129593a9",
   "metadata": {},
   "outputs": [
    {
     "data": {
      "text/plain": [
       "list"
      ]
     },
     "execution_count": 46,
     "metadata": {},
     "output_type": "execute_result"
    }
   ],
   "source": [
    "type(a)"
   ]
  },
  {
   "cell_type": "code",
   "execution_count": 47,
   "id": "2d4e18aa",
   "metadata": {},
   "outputs": [
    {
     "data": {
      "text/plain": [
       "True"
      ]
     },
     "execution_count": 47,
     "metadata": {},
     "output_type": "execute_result"
    }
   ],
   "source": [
    "1 in a"
   ]
  },
  {
   "cell_type": "code",
   "execution_count": 49,
   "id": "3e16b34b",
   "metadata": {},
   "outputs": [
    {
     "data": {
      "text/plain": [
       "True"
      ]
     },
     "execution_count": 49,
     "metadata": {},
     "output_type": "execute_result"
    }
   ],
   "source": [
    "1 in [1,3, 5,6,33,2]"
   ]
  },
  {
   "cell_type": "code",
   "execution_count": 59,
   "id": "2725c7c8",
   "metadata": {},
   "outputs": [
    {
     "data": {
      "text/plain": [
       "[1, 1]"
      ]
     },
     "execution_count": 59,
     "metadata": {},
     "output_type": "execute_result"
    }
   ],
   "source": [
    "a[:2]"
   ]
  },
  {
   "cell_type": "markdown",
   "id": "2b9724a5",
   "metadata": {},
   "source": [
    "### Python String"
   ]
  },
  {
   "cell_type": "code",
   "execution_count": 54,
   "id": "c2b392cb",
   "metadata": {},
   "outputs": [
    {
     "name": "stdout",
     "output_type": "stream",
     "text": [
      "t\n",
      "th\n",
      "this\n"
     ]
    }
   ],
   "source": [
    "x = 'this is a string'\n",
    "print(x[0])\n",
    "print(x[0:2])\n",
    "print(x[0:4])"
   ]
  },
  {
   "cell_type": "code",
   "execution_count": 51,
   "id": "50acd99a",
   "metadata": {},
   "outputs": [
    {
     "data": {
      "text/plain": [
       "'g'"
      ]
     },
     "execution_count": 51,
     "metadata": {},
     "output_type": "execute_result"
    }
   ],
   "source": [
    " x[-1]"
   ]
  },
  {
   "cell_type": "code",
   "execution_count": 55,
   "id": "8dd79707",
   "metadata": {},
   "outputs": [
    {
     "data": {
      "text/plain": [
       "'n'"
      ]
     },
     "execution_count": 55,
     "metadata": {},
     "output_type": "execute_result"
    }
   ],
   "source": [
    "x[-2]"
   ]
  },
  {
   "cell_type": "code",
   "execution_count": 56,
   "id": "2b68400b",
   "metadata": {},
   "outputs": [
    {
     "data": {
      "text/plain": [
       "'ri'"
      ]
     },
     "execution_count": 56,
     "metadata": {},
     "output_type": "execute_result"
    }
   ],
   "source": [
    "x[-4:-2]"
   ]
  },
  {
   "cell_type": "code",
   "execution_count": 57,
   "id": "b8f3c835",
   "metadata": {},
   "outputs": [
    {
     "data": {
      "text/plain": [
       "'s is a string'"
      ]
     },
     "execution_count": 57,
     "metadata": {},
     "output_type": "execute_result"
    }
   ],
   "source": [
    "x[3:]"
   ]
  },
  {
   "cell_type": "code",
   "execution_count": 58,
   "id": "81f01653",
   "metadata": {},
   "outputs": [
    {
     "data": {
      "text/plain": [
       "'thi'"
      ]
     },
     "execution_count": 58,
     "metadata": {},
     "output_type": "execute_result"
    }
   ],
   "source": [
    "x[:3]"
   ]
  },
  {
   "cell_type": "code",
   "execution_count": 60,
   "id": "e8b016b7",
   "metadata": {},
   "outputs": [
    {
     "name": "stdout",
     "output_type": "stream",
     "text": [
      "Shohel Hossain\n"
     ]
    }
   ],
   "source": [
    "firstname = 'Shohel'\n",
    "lastname = 'Hossain'\n",
    "print(firstname + ' '+ lastname)"
   ]
  },
  {
   "cell_type": "code",
   "execution_count": 61,
   "id": "c0e47a9a",
   "metadata": {},
   "outputs": [
    {
     "name": "stdout",
     "output_type": "stream",
     "text": [
      "ShohelShohelShohel\n"
     ]
    }
   ],
   "source": [
    "print(firstname * 3)"
   ]
  },
  {
   "cell_type": "code",
   "execution_count": 63,
   "id": "63fe42a3",
   "metadata": {},
   "outputs": [
    {
     "name": "stdout",
     "output_type": "stream",
     "text": [
      "True\n"
     ]
    }
   ],
   "source": [
    "print('Sho' in firstname)"
   ]
  },
  {
   "cell_type": "code",
   "execution_count": 64,
   "id": "d3de58c1",
   "metadata": {},
   "outputs": [],
   "source": [
    "firstname = 'Christopher Arthur Hansen Brooks'.split(' ')"
   ]
  },
  {
   "cell_type": "code",
   "execution_count": 66,
   "id": "d47da227",
   "metadata": {},
   "outputs": [
    {
     "data": {
      "text/plain": [
       "['Christopher', 'Arthur', 'Hansen']"
      ]
     },
     "execution_count": 66,
     "metadata": {},
     "output_type": "execute_result"
    }
   ],
   "source": [
    "firstname[:3]"
   ]
  },
  {
   "cell_type": "code",
   "execution_count": 67,
   "id": "3358d3aa",
   "metadata": {},
   "outputs": [],
   "source": [
    "lastname = 'Christopher Arthur Hansen Brooks'.split(' ')"
   ]
  },
  {
   "cell_type": "code",
   "execution_count": 72,
   "id": "2ec41751",
   "metadata": {},
   "outputs": [
    {
     "data": {
      "text/plain": [
       "'Hansen'"
      ]
     },
     "execution_count": 72,
     "metadata": {},
     "output_type": "execute_result"
    }
   ],
   "source": [
    "lastname[-2]"
   ]
  },
  {
   "cell_type": "markdown",
   "id": "dc72a870",
   "metadata": {},
   "source": [
    "### Python Dictionary"
   ]
  },
  {
   "cell_type": "code",
   "execution_count": 73,
   "id": "fe241a09",
   "metadata": {},
   "outputs": [],
   "source": [
    "  x = {'shohel':'shohel.barcode@gmail.com', 'Siam':'siam@gmail.com'}"
   ]
  },
  {
   "cell_type": "code",
   "execution_count": 75,
   "id": "3cc58d0d",
   "metadata": {},
   "outputs": [
    {
     "data": {
      "text/plain": [
       "'shohel.barcode@gmail.com'"
      ]
     },
     "execution_count": 75,
     "metadata": {},
     "output_type": "execute_result"
    }
   ],
   "source": [
    "x['shohel']"
   ]
  },
  {
   "cell_type": "code",
   "execution_count": 76,
   "id": "4dd61959",
   "metadata": {},
   "outputs": [],
   "source": [
    "x['Nitish'] = None"
   ]
  },
  {
   "cell_type": "code",
   "execution_count": 77,
   "id": "4e16d85e",
   "metadata": {},
   "outputs": [],
   "source": [
    "x['Nitish']"
   ]
  },
  {
   "cell_type": "code",
   "execution_count": 79,
   "id": "ab120af1",
   "metadata": {},
   "outputs": [
    {
     "name": "stdout",
     "output_type": "stream",
     "text": [
      "shohel.barcode@gmail.com\n",
      "siam@gmail.com\n",
      "None\n"
     ]
    }
   ],
   "source": [
    "for name in x:\n",
    "    print(x[name])"
   ]
  },
  {
   "cell_type": "code",
   "execution_count": 80,
   "id": "f9c9a4bd",
   "metadata": {},
   "outputs": [
    {
     "name": "stdout",
     "output_type": "stream",
     "text": [
      "shohel\n",
      "Siam\n",
      "Nitish\n"
     ]
    }
   ],
   "source": [
    "for name in x:\n",
    "    print(name)"
   ]
  },
  {
   "cell_type": "code",
   "execution_count": 81,
   "id": "be991cd1",
   "metadata": {},
   "outputs": [
    {
     "name": "stdout",
     "output_type": "stream",
     "text": [
      "shohel.barcode@gmail.com\n",
      "siam@gmail.com\n",
      "None\n"
     ]
    }
   ],
   "source": [
    "for email in x.values():\n",
    "    print(email)"
   ]
  },
  {
   "cell_type": "code",
   "execution_count": 85,
   "id": "d7eece56",
   "metadata": {},
   "outputs": [
    {
     "name": "stdout",
     "output_type": "stream",
     "text": [
      "shohel shohel.barcode@gmail.com\n",
      "Siam siam@gmail.com\n",
      "Nitish None\n"
     ]
    }
   ],
   "source": [
    "for name,email in x.items():\n",
    "    print(name, email)\n"
   ]
  },
  {
   "cell_type": "code",
   "execution_count": 92,
   "id": "51a75387",
   "metadata": {},
   "outputs": [],
   "source": [
    "x = ('shohel','hossain','shohel.barcode@gmail.com')"
   ]
  },
  {
   "cell_type": "code",
   "execution_count": 98,
   "id": "c6c2412d",
   "metadata": {},
   "outputs": [],
   "source": [
    "fname, lname,email = x"
   ]
  },
  {
   "cell_type": "code",
   "execution_count": 99,
   "id": "63d93097",
   "metadata": {},
   "outputs": [
    {
     "data": {
      "text/plain": [
       "('shohel', 'hossain', 'shohel.barcode@gmail.com')"
      ]
     },
     "execution_count": 99,
     "metadata": {},
     "output_type": "execute_result"
    }
   ],
   "source": [
    "x"
   ]
  },
  {
   "cell_type": "code",
   "execution_count": 100,
   "id": "db20974a",
   "metadata": {},
   "outputs": [
    {
     "data": {
      "text/plain": [
       "'shohel'"
      ]
     },
     "execution_count": 100,
     "metadata": {},
     "output_type": "execute_result"
    }
   ],
   "source": [
    "fname"
   ]
  },
  {
   "cell_type": "code",
   "execution_count": 101,
   "id": "4d5ff504",
   "metadata": {},
   "outputs": [
    {
     "data": {
      "text/plain": [
       "'hossain'"
      ]
     },
     "execution_count": 101,
     "metadata": {},
     "output_type": "execute_result"
    }
   ],
   "source": [
    "lname"
   ]
  },
  {
   "cell_type": "code",
   "execution_count": 102,
   "id": "863bf095",
   "metadata": {},
   "outputs": [],
   "source": [
    "x = ('shohel','hossain','shohel.barcode@gmail.com','facebook.com/shohel-hossain')"
   ]
  },
  {
   "cell_type": "code",
   "execution_count": 103,
   "id": "ebe94957",
   "metadata": {},
   "outputs": [
    {
     "ename": "ValueError",
     "evalue": "too many values to unpack (expected 3)",
     "output_type": "error",
     "traceback": [
      "\u001b[0;31m---------------------------------------------------------------------------\u001b[0m",
      "\u001b[0;31mValueError\u001b[0m                                Traceback (most recent call last)",
      "\u001b[0;32m/tmp/ipykernel_13347/2260194169.py\u001b[0m in \u001b[0;36m<module>\u001b[0;34m\u001b[0m\n\u001b[0;32m----> 1\u001b[0;31m \u001b[0mfname\u001b[0m\u001b[0;34m,\u001b[0m \u001b[0mlname\u001b[0m\u001b[0;34m,\u001b[0m\u001b[0memail\u001b[0m \u001b[0;34m=\u001b[0m \u001b[0mx\u001b[0m\u001b[0;34m\u001b[0m\u001b[0;34m\u001b[0m\u001b[0m\n\u001b[0m",
      "\u001b[0;31mValueError\u001b[0m: too many values to unpack (expected 3)"
     ]
    }
   ],
   "source": [
    "fname, lname,email = x"
   ]
  },
  {
   "cell_type": "code",
   "execution_count": 104,
   "id": "b6cbfc48",
   "metadata": {},
   "outputs": [],
   "source": [
    "fname, lname,email, facebook = x"
   ]
  },
  {
   "cell_type": "code",
   "execution_count": 109,
   "id": "5df6b06f",
   "metadata": {},
   "outputs": [],
   "source": [
    "  x = {'shohel':'shohel.barcode@gmail.com', 'Siam':'siam@gmail.com'}"
   ]
  },
  {
   "cell_type": "code",
   "execution_count": 110,
   "id": "bbefde9e",
   "metadata": {},
   "outputs": [
    {
     "data": {
      "text/plain": [
       "dict_keys(['shohel', 'Siam'])"
      ]
     },
     "execution_count": 110,
     "metadata": {},
     "output_type": "execute_result"
    }
   ],
   "source": [
    "x.keys()"
   ]
  },
  {
   "cell_type": "code",
   "execution_count": 111,
   "id": "227264ab",
   "metadata": {},
   "outputs": [
    {
     "data": {
      "text/plain": [
       "dict_values(['shohel.barcode@gmail.com', 'siam@gmail.com'])"
      ]
     },
     "execution_count": 111,
     "metadata": {},
     "output_type": "execute_result"
    }
   ],
   "source": [
    "x.values()"
   ]
  },
  {
   "cell_type": "markdown",
   "id": "1e3030d6",
   "metadata": {},
   "source": [
    "# Python More String"
   ]
  },
  {
   "cell_type": "code",
   "execution_count": 112,
   "id": "f988cbf4",
   "metadata": {},
   "outputs": [
    {
     "ename": "TypeError",
     "evalue": "can only concatenate str (not \"int\") to str",
     "output_type": "error",
     "traceback": [
      "\u001b[0;31m---------------------------------------------------------------------------\u001b[0m",
      "\u001b[0;31mTypeError\u001b[0m                                 Traceback (most recent call last)",
      "\u001b[0;32m/tmp/ipykernel_13347/960420689.py\u001b[0m in \u001b[0;36m<module>\u001b[0;34m\u001b[0m\n\u001b[0;32m----> 1\u001b[0;31m \u001b[0mprint\u001b[0m\u001b[0;34m(\u001b[0m\u001b[0;34m'Chris'\u001b[0m \u001b[0;34m+\u001b[0m \u001b[0;36m2\u001b[0m\u001b[0;34m)\u001b[0m\u001b[0;34m\u001b[0m\u001b[0;34m\u001b[0m\u001b[0m\n\u001b[0m",
      "\u001b[0;31mTypeError\u001b[0m: can only concatenate str (not \"int\") to str"
     ]
    }
   ],
   "source": [
    "print('Chris' + 2)"
   ]
  },
  {
   "cell_type": "code",
   "execution_count": 113,
   "id": "ed7e74d1",
   "metadata": {},
   "outputs": [
    {
     "name": "stdout",
     "output_type": "stream",
     "text": [
      "shohel2\n"
     ]
    }
   ],
   "source": [
    "print('shohel' + str(2))"
   ]
  },
  {
   "cell_type": "code",
   "execution_count": 116,
   "id": "32a7a951",
   "metadata": {},
   "outputs": [],
   "source": [
    "sales_record = {\n",
    "    'price':3.23,\n",
    "    'num_item': 3\n",
    "    'person' : 'Chris'\n",
    "    \n",
    "}"
   ]
  },
  {
   "cell_type": "code",
   "execution_count": 121,
   "id": "4adc8dbf",
   "metadata": {},
   "outputs": [
    {
     "name": "stdout",
     "output_type": "stream",
     "text": [
      "Chris bought 3 items at a price of 3.23  each for total of 9.69\n"
     ]
    }
   ],
   "source": [
    "sales_statement = \"{} bought {} items at a price of {}  each for total of {}\"\n",
    "\n",
    "print(sales_statement.format(sales_record['person'],\n",
    "                             sales_record['num_item'],\n",
    "                             sales_record['price'],\n",
    "                             sales_record['num_item'] * sales_record['price']\n",
    "                            ))"
   ]
  },
  {
   "cell_type": "code",
   "execution_count": 123,
   "id": "b3655302",
   "metadata": {},
   "outputs": [],
   "source": [
    "sales_statement = f\"{sales_record['person']} bought {sales_record['num_item']} items at a price of {sales_record['price']}  each for total of {sales_record['num_item'] * sales_record['price']}\""
   ]
  },
  {
   "cell_type": "code",
   "execution_count": 124,
   "id": "1fc124c5",
   "metadata": {},
   "outputs": [
    {
     "data": {
      "text/plain": [
       "'Chris bought 3 items at a price of 3.23  each for total of 9.69'"
      ]
     },
     "execution_count": 124,
     "metadata": {},
     "output_type": "execute_result"
    }
   ],
   "source": [
    "sales_statement"
   ]
  },
  {
   "cell_type": "markdown",
   "id": "c1c35bc1",
   "metadata": {},
   "source": [
    "# Python Demonstration: Reading and Writing CSV files"
   ]
  },
  {
   "cell_type": "code",
   "execution_count": 126,
   "id": "6b0c6d92",
   "metadata": {},
   "outputs": [],
   "source": [
    "import csv\n",
    "%precision 2\n",
    "with open('matches.csv') as csvfile:\n",
    "    mpg = list(csv.DictReader(csvfile))"
   ]
  },
  {
   "cell_type": "code",
   "execution_count": 128,
   "id": "553153ff",
   "metadata": {},
   "outputs": [
    {
     "data": {
      "text/plain": [
       "{'id': '1',\n",
       " 'season': '2017',\n",
       " 'city': 'Hyderabad',\n",
       " 'date': '2017-04-05',\n",
       " 'team1': 'Sunrisers Hyderabad',\n",
       " 'team2': 'Royal Challengers Bangalore',\n",
       " 'toss_winner': 'Royal Challengers Bangalore',\n",
       " 'toss_decision': 'field',\n",
       " 'result': 'normal',\n",
       " 'dl_applied': '0',\n",
       " 'winner': 'Sunrisers Hyderabad',\n",
       " 'win_by_runs': '35',\n",
       " 'win_by_wickets': '0',\n",
       " 'player_of_match': 'Yuvraj Singh',\n",
       " 'venue': 'Rajiv Gandhi International Stadium, Uppal',\n",
       " 'umpire1': 'AY Dandekar',\n",
       " 'umpire2': 'NJ Llong',\n",
       " 'umpire3': ''}"
      ]
     },
     "execution_count": 128,
     "metadata": {},
     "output_type": "execute_result"
    }
   ],
   "source": [
    "mpg[0]"
   ]
  },
  {
   "cell_type": "code",
   "execution_count": 129,
   "id": "33672776",
   "metadata": {},
   "outputs": [
    {
     "data": {
      "text/plain": [
       "[{'id': '1',\n",
       "  'season': '2017',\n",
       "  'city': 'Hyderabad',\n",
       "  'date': '2017-04-05',\n",
       "  'team1': 'Sunrisers Hyderabad',\n",
       "  'team2': 'Royal Challengers Bangalore',\n",
       "  'toss_winner': 'Royal Challengers Bangalore',\n",
       "  'toss_decision': 'field',\n",
       "  'result': 'normal',\n",
       "  'dl_applied': '0',\n",
       "  'winner': 'Sunrisers Hyderabad',\n",
       "  'win_by_runs': '35',\n",
       "  'win_by_wickets': '0',\n",
       "  'player_of_match': 'Yuvraj Singh',\n",
       "  'venue': 'Rajiv Gandhi International Stadium, Uppal',\n",
       "  'umpire1': 'AY Dandekar',\n",
       "  'umpire2': 'NJ Llong',\n",
       "  'umpire3': ''},\n",
       " {'id': '2',\n",
       "  'season': '2017',\n",
       "  'city': 'Pune',\n",
       "  'date': '2017-04-06',\n",
       "  'team1': 'Mumbai Indians',\n",
       "  'team2': 'Rising Pune Supergiant',\n",
       "  'toss_winner': 'Rising Pune Supergiant',\n",
       "  'toss_decision': 'field',\n",
       "  'result': 'normal',\n",
       "  'dl_applied': '0',\n",
       "  'winner': 'Rising Pune Supergiant',\n",
       "  'win_by_runs': '0',\n",
       "  'win_by_wickets': '7',\n",
       "  'player_of_match': 'SPD Smith',\n",
       "  'venue': 'Maharashtra Cricket Association Stadium',\n",
       "  'umpire1': 'A Nand Kishore',\n",
       "  'umpire2': 'S Ravi',\n",
       "  'umpire3': ''},\n",
       " {'id': '3',\n",
       "  'season': '2017',\n",
       "  'city': 'Rajkot',\n",
       "  'date': '2017-04-07',\n",
       "  'team1': 'Gujarat Lions',\n",
       "  'team2': 'Kolkata Knight Riders',\n",
       "  'toss_winner': 'Kolkata Knight Riders',\n",
       "  'toss_decision': 'field',\n",
       "  'result': 'normal',\n",
       "  'dl_applied': '0',\n",
       "  'winner': 'Kolkata Knight Riders',\n",
       "  'win_by_runs': '0',\n",
       "  'win_by_wickets': '10',\n",
       "  'player_of_match': 'CA Lynn',\n",
       "  'venue': 'Saurashtra Cricket Association Stadium',\n",
       "  'umpire1': 'Nitin Menon',\n",
       "  'umpire2': 'CK Nandan',\n",
       "  'umpire3': ''}]"
      ]
     },
     "execution_count": 129,
     "metadata": {},
     "output_type": "execute_result"
    }
   ],
   "source": [
    "mpg[:3]"
   ]
  },
  {
   "cell_type": "code",
   "execution_count": 130,
   "id": "b82ed125",
   "metadata": {},
   "outputs": [
    {
     "data": {
      "text/plain": [
       "756"
      ]
     },
     "execution_count": 130,
     "metadata": {},
     "output_type": "execute_result"
    }
   ],
   "source": [
    "len(mpg)"
   ]
  },
  {
   "cell_type": "code",
   "execution_count": 132,
   "id": "dd7e70c0",
   "metadata": {},
   "outputs": [
    {
     "data": {
      "text/plain": [
       "dict_keys(['id', 'season', 'city', 'date', 'team1', 'team2', 'toss_winner', 'toss_decision', 'result', 'dl_applied', 'winner', 'win_by_runs', 'win_by_wickets', 'player_of_match', 'venue', 'umpire1', 'umpire2', 'umpire3'])"
      ]
     },
     "execution_count": 132,
     "metadata": {},
     "output_type": "execute_result"
    }
   ],
   "source": [
    "mpg[0].keys()"
   ]
  },
  {
   "cell_type": "code",
   "execution_count": 133,
   "id": "bf151906",
   "metadata": {},
   "outputs": [
    {
     "data": {
      "text/plain": [
       "3.35"
      ]
     },
     "execution_count": 133,
     "metadata": {},
     "output_type": "execute_result"
    }
   ],
   "source": [
    "sum(float(d['win_by_wickets']) for d in mpg ) /len(mpg)"
   ]
  },
  {
   "cell_type": "code",
   "execution_count": 134,
   "id": "ea2a8feb",
   "metadata": {},
   "outputs": [
    {
     "data": {
      "text/plain": [
       "13.28"
      ]
     },
     "execution_count": 134,
     "metadata": {},
     "output_type": "execute_result"
    }
   ],
   "source": [
    "sum(float(runs['win_by_runs']) for runs in mpg ) /len(mpg)"
   ]
  },
  {
   "cell_type": "markdown",
   "id": "e6d9e73a",
   "metadata": {},
   "source": [
    "# Python Dates and Times"
   ]
  },
  {
   "cell_type": "code",
   "execution_count": 135,
   "id": "bfde8fff",
   "metadata": {},
   "outputs": [],
   "source": [
    "import datetime as dt\n",
    "import time as tm"
   ]
  },
  {
   "cell_type": "code",
   "execution_count": 136,
   "id": "f64c5e0a",
   "metadata": {},
   "outputs": [
    {
     "data": {
      "text/plain": [
       "1665814583.51"
      ]
     },
     "execution_count": 136,
     "metadata": {},
     "output_type": "execute_result"
    }
   ],
   "source": [
    "tm.time()"
   ]
  },
  {
   "cell_type": "code",
   "execution_count": 138,
   "id": "2dbb212e",
   "metadata": {},
   "outputs": [],
   "source": [
    "dtnow = dt.datetime.fromtimestamp(tm.time())"
   ]
  },
  {
   "cell_type": "code",
   "execution_count": 139,
   "id": "8cc3d3ca",
   "metadata": {},
   "outputs": [
    {
     "data": {
      "text/plain": [
       "datetime.datetime(2022, 10, 15, 12, 17, 32, 647521)"
      ]
     },
     "execution_count": 139,
     "metadata": {},
     "output_type": "execute_result"
    }
   ],
   "source": [
    "dtnow"
   ]
  },
  {
   "cell_type": "code",
   "execution_count": 140,
   "id": "a090c6db",
   "metadata": {},
   "outputs": [
    {
     "data": {
      "text/plain": [
       "2022"
      ]
     },
     "execution_count": 140,
     "metadata": {},
     "output_type": "execute_result"
    }
   ],
   "source": [
    "dtnow.year"
   ]
  },
  {
   "cell_type": "code",
   "execution_count": 141,
   "id": "15bca696",
   "metadata": {},
   "outputs": [
    {
     "data": {
      "text/plain": [
       "10"
      ]
     },
     "execution_count": 141,
     "metadata": {},
     "output_type": "execute_result"
    }
   ],
   "source": [
    "dtnow.month"
   ]
  },
  {
   "cell_type": "code",
   "execution_count": 142,
   "id": "3f9a82fe",
   "metadata": {},
   "outputs": [
    {
     "data": {
      "text/plain": [
       "15"
      ]
     },
     "execution_count": 142,
     "metadata": {},
     "output_type": "execute_result"
    }
   ],
   "source": [
    "dtnow.day"
   ]
  },
  {
   "cell_type": "code",
   "execution_count": 143,
   "id": "83171913",
   "metadata": {},
   "outputs": [
    {
     "data": {
      "text/plain": [
       "12"
      ]
     },
     "execution_count": 143,
     "metadata": {},
     "output_type": "execute_result"
    }
   ],
   "source": [
    "dtnow.hour"
   ]
  },
  {
   "cell_type": "code",
   "execution_count": 144,
   "id": "52406634",
   "metadata": {},
   "outputs": [
    {
     "data": {
      "text/plain": [
       "(17, 32)"
      ]
     },
     "execution_count": 144,
     "metadata": {},
     "output_type": "execute_result"
    }
   ],
   "source": [
    "dtnow.minute, dtnow.second"
   ]
  },
  {
   "cell_type": "code",
   "execution_count": 147,
   "id": "3d707725",
   "metadata": {},
   "outputs": [],
   "source": [
    "delta  = dt.timedelta(100)"
   ]
  },
  {
   "cell_type": "code",
   "execution_count": 148,
   "id": "dc1b56de",
   "metadata": {},
   "outputs": [
    {
     "data": {
      "text/plain": [
       "datetime.timedelta(days=100)"
      ]
     },
     "execution_count": 148,
     "metadata": {},
     "output_type": "execute_result"
    }
   ],
   "source": [
    "delta"
   ]
  },
  {
   "cell_type": "code",
   "execution_count": 149,
   "id": "a89bf140",
   "metadata": {},
   "outputs": [],
   "source": [
    "today = dt.date.today()"
   ]
  },
  {
   "cell_type": "code",
   "execution_count": 151,
   "id": "25be3066",
   "metadata": {},
   "outputs": [
    {
     "data": {
      "text/plain": [
       "datetime.date(2022, 10, 15)"
      ]
     },
     "execution_count": 151,
     "metadata": {},
     "output_type": "execute_result"
    }
   ],
   "source": [
    "today"
   ]
  },
  {
   "cell_type": "code",
   "execution_count": 152,
   "id": "5ed68236",
   "metadata": {},
   "outputs": [
    {
     "data": {
      "text/plain": [
       "True"
      ]
     },
     "execution_count": 152,
     "metadata": {},
     "output_type": "execute_result"
    }
   ],
   "source": [
    "today > today-delta"
   ]
  },
  {
   "cell_type": "code",
   "execution_count": 153,
   "id": "41d637be",
   "metadata": {},
   "outputs": [],
   "source": [
    "from datetime import timedelta\n",
    "delta = timedelta(\n",
    "    days=50,\n",
    "    seconds=27,\n",
    "    microseconds=10,\n",
    "    milliseconds=29000,\n",
    "    minutes=5,\n",
    "    hours=8,\n",
    "    weeks=2\n",
    ")"
   ]
  },
  {
   "cell_type": "code",
   "execution_count": 154,
   "id": "9f913f89",
   "metadata": {},
   "outputs": [
    {
     "data": {
      "text/plain": [
       "datetime.timedelta(days=64, seconds=29156, microseconds=10)"
      ]
     },
     "execution_count": 154,
     "metadata": {},
     "output_type": "execute_result"
    }
   ],
   "source": [
    "delta"
   ]
  },
  {
   "cell_type": "code",
   "execution_count": 155,
   "id": "0571706a",
   "metadata": {},
   "outputs": [
    {
     "data": {
      "text/plain": [
       "datetime.date(2022, 8, 12)"
      ]
     },
     "execution_count": 155,
     "metadata": {},
     "output_type": "execute_result"
    }
   ],
   "source": [
    "today - delta"
   ]
  },
  {
   "cell_type": "code",
   "execution_count": 157,
   "id": "13c5eae3",
   "metadata": {},
   "outputs": [],
   "source": [
    "delta  = dt.timedelta(days=-1)"
   ]
  },
  {
   "cell_type": "code",
   "execution_count": 158,
   "id": "2fd41601",
   "metadata": {},
   "outputs": [
    {
     "data": {
      "text/plain": [
       "datetime.date(2022, 10, 16)"
      ]
     },
     "execution_count": 158,
     "metadata": {},
     "output_type": "execute_result"
    }
   ],
   "source": [
    "today - delta"
   ]
  },
  {
   "cell_type": "code",
   "execution_count": 159,
   "id": "27ad6ce8",
   "metadata": {},
   "outputs": [
    {
     "data": {
      "text/plain": [
       "datetime.timedelta(days=-999999999)"
      ]
     },
     "execution_count": 159,
     "metadata": {},
     "output_type": "execute_result"
    }
   ],
   "source": [
    "delta.min"
   ]
  },
  {
   "cell_type": "code",
   "execution_count": 160,
   "id": "585236c8",
   "metadata": {},
   "outputs": [
    {
     "data": {
      "text/plain": [
       "datetime.timedelta(days=999999999, seconds=86399, microseconds=999999)"
      ]
     },
     "execution_count": 160,
     "metadata": {},
     "output_type": "execute_result"
    }
   ],
   "source": [
    "delta.max"
   ]
  },
  {
   "cell_type": "code",
   "execution_count": 163,
   "id": "c6e6c045",
   "metadata": {},
   "outputs": [
    {
     "name": "stdout",
     "output_type": "stream",
     "text": [
      "1 day, 1:00:02\n",
      "1 day, 1:00:02\n"
     ]
    }
   ],
   "source": [
    "from datetime import timedelta\n",
    "delta1 = timedelta(seconds=57)\n",
    "delta2 = timedelta(hours=25, seconds=2)\n",
    "print(delta2)\n",
    "delta2 != delta1\n",
    "\n",
    "delta2 == 5\n",
    "print(delta2)"
   ]
  },
  {
   "cell_type": "code",
   "execution_count": 164,
   "id": "5e322bc6",
   "metadata": {},
   "outputs": [
    {
     "data": {
      "text/plain": [
       "datetime.timedelta(days=1, seconds=3602)"
      ]
     },
     "execution_count": 164,
     "metadata": {},
     "output_type": "execute_result"
    }
   ],
   "source": [
    "delta2"
   ]
  },
  {
   "cell_type": "code",
   "execution_count": 166,
   "id": "a85e9492",
   "metadata": {},
   "outputs": [
    {
     "data": {
      "text/plain": [
       "-86400.00"
      ]
     },
     "execution_count": 166,
     "metadata": {},
     "output_type": "execute_result"
    }
   ],
   "source": [
    "delta.total_seconds()"
   ]
  },
  {
   "cell_type": "code",
   "execution_count": 170,
   "id": "2fb7d8de",
   "metadata": {},
   "outputs": [],
   "source": [
    "ddate = dt.date.fromisoformat('2019-12-04')"
   ]
  },
  {
   "cell_type": "code",
   "execution_count": 172,
   "id": "37297ea2",
   "metadata": {},
   "outputs": [
    {
     "data": {
      "text/plain": [
       "2019"
      ]
     },
     "execution_count": 172,
     "metadata": {},
     "output_type": "execute_result"
    }
   ],
   "source": [
    "ddate.year"
   ]
  },
  {
   "cell_type": "code",
   "execution_count": 173,
   "id": "94f6a647",
   "metadata": {},
   "outputs": [
    {
     "data": {
      "text/plain": [
       "12"
      ]
     },
     "execution_count": 173,
     "metadata": {},
     "output_type": "execute_result"
    }
   ],
   "source": [
    "ddate.month"
   ]
  },
  {
   "cell_type": "markdown",
   "id": "8e963966",
   "metadata": {},
   "source": [
    "# Advanced Python Objects, map()"
   ]
  },
  {
   "cell_type": "code",
   "execution_count": 193,
   "id": "8f23c8fd",
   "metadata": {},
   "outputs": [],
   "source": [
    "class Person:\n",
    "    department = 'School of Information'\n",
    "    \n",
    "    def set_name(self, new_name):\n",
    "        self.name = new_name\n",
    "        \n",
    "    def set_location(self, new_location):\n",
    "        self.location = new_location\n",
    "        \n",
    "    def check_name(self):\n",
    "        print(self.name)\n",
    "        \n",
    "    def check_location(self):\n",
    "        print(self.location)\n",
    "        "
   ]
  },
  {
   "cell_type": "code",
   "execution_count": 198,
   "id": "f7705b70",
   "metadata": {},
   "outputs": [],
   "source": [
    "person = Person()"
   ]
  },
  {
   "cell_type": "code",
   "execution_count": 189,
   "id": "63e48da0",
   "metadata": {},
   "outputs": [],
   "source": [
    "person.set_name('Shohel')"
   ]
  },
  {
   "cell_type": "code",
   "execution_count": 190,
   "id": "833fbf2b",
   "metadata": {},
   "outputs": [
    {
     "name": "stdout",
     "output_type": "stream",
     "text": [
      "Shohel\n"
     ]
    }
   ],
   "source": [
    "person.check_name()"
   ]
  },
  {
   "cell_type": "code",
   "execution_count": 201,
   "id": "c5a3a2e9",
   "metadata": {},
   "outputs": [],
   "source": [
    "person.set_location('Konabari,Gazipur')"
   ]
  },
  {
   "cell_type": "code",
   "execution_count": 202,
   "id": "3a89d90e",
   "metadata": {},
   "outputs": [
    {
     "name": "stdout",
     "output_type": "stream",
     "text": [
      "Konabari,Gazipur\n"
     ]
    }
   ],
   "source": [
    "person.check_location()"
   ]
  },
  {
   "cell_type": "code",
   "execution_count": 203,
   "id": "9d83ace6",
   "metadata": {},
   "outputs": [
    {
     "data": {
      "text/plain": [
       "'School of Information'"
      ]
     },
     "execution_count": 203,
     "metadata": {},
     "output_type": "execute_result"
    }
   ],
   "source": [
    "person.department"
   ]
  },
  {
   "cell_type": "markdown",
   "id": "fd3b497d",
   "metadata": {},
   "source": [
    "### Map Function"
   ]
  },
  {
   "cell_type": "code",
   "execution_count": 211,
   "id": "c76ebf97",
   "metadata": {},
   "outputs": [],
   "source": [
    "li = [10,20,30,40,50]"
   ]
  },
  {
   "cell_type": "code",
   "execution_count": 220,
   "id": "5aece0bb",
   "metadata": {},
   "outputs": [],
   "source": [
    "def inc(n):\n",
    "    return n*n\n"
   ]
  },
  {
   "cell_type": "code",
   "execution_count": 224,
   "id": "a1d89dee",
   "metadata": {},
   "outputs": [],
   "source": [
    "result = list(map(inc,li))"
   ]
  },
  {
   "cell_type": "code",
   "execution_count": 225,
   "id": "6c47060d",
   "metadata": {},
   "outputs": [
    {
     "data": {
      "text/plain": [
       "[100, 400, 900, 1600, 2500]"
      ]
     },
     "execution_count": 225,
     "metadata": {},
     "output_type": "execute_result"
    }
   ],
   "source": [
    "result"
   ]
  },
  {
   "cell_type": "code",
   "execution_count": 226,
   "id": "4ab0e5f4",
   "metadata": {},
   "outputs": [
    {
     "name": "stdout",
     "output_type": "stream",
     "text": [
      "100\n",
      "400\n",
      "900\n",
      "1600\n",
      "2500\n"
     ]
    }
   ],
   "source": [
    "for i in result:\n",
    "    print(i)"
   ]
  },
  {
   "cell_type": "code",
   "execution_count": 236,
   "id": "e0884dd8",
   "metadata": {},
   "outputs": [],
   "source": [
    "li2 = [2,4,6,6,8]"
   ]
  },
  {
   "cell_type": "code",
   "execution_count": 237,
   "id": "c93effe2",
   "metadata": {},
   "outputs": [],
   "source": [
    "result = map(min, li,li2)"
   ]
  },
  {
   "cell_type": "code",
   "execution_count": 238,
   "id": "97855dc8",
   "metadata": {},
   "outputs": [
    {
     "data": {
      "text/plain": [
       "<map at 0x7fa450f8e460>"
      ]
     },
     "execution_count": 238,
     "metadata": {},
     "output_type": "execute_result"
    }
   ],
   "source": [
    "result"
   ]
  },
  {
   "cell_type": "code",
   "execution_count": 239,
   "id": "5413c47f",
   "metadata": {},
   "outputs": [
    {
     "name": "stdout",
     "output_type": "stream",
     "text": [
      "2\n",
      "4\n",
      "6\n",
      "6\n",
      "8\n"
     ]
    }
   ],
   "source": [
    "for i in result:\n",
    "    print(i)"
   ]
  },
  {
   "cell_type": "markdown",
   "id": "109b83a3",
   "metadata": {},
   "source": [
    "# Advanced Python Lambda and List Comprehensions\n"
   ]
  },
  {
   "cell_type": "code",
   "execution_count": 244,
   "id": "adcabdad",
   "metadata": {},
   "outputs": [],
   "source": [
    "new_li = [item*2 for item in li]"
   ]
  },
  {
   "cell_type": "code",
   "execution_count": 246,
   "id": "3e6d87df",
   "metadata": {},
   "outputs": [
    {
     "data": {
      "text/plain": [
       "[10, 20, 30, 40, 50]"
      ]
     },
     "execution_count": 246,
     "metadata": {},
     "output_type": "execute_result"
    }
   ],
   "source": [
    "li"
   ]
  },
  {
   "cell_type": "code",
   "execution_count": 245,
   "id": "9eeab442",
   "metadata": {},
   "outputs": [
    {
     "data": {
      "text/plain": [
       "[20, 40, 60, 80, 100]"
      ]
     },
     "execution_count": 245,
     "metadata": {},
     "output_type": "execute_result"
    }
   ],
   "source": [
    "new_li"
   ]
  },
  {
   "cell_type": "code",
   "execution_count": null,
   "id": "28d0e541",
   "metadata": {},
   "outputs": [],
   "source": [
    "new_li2 = []"
   ]
  },
  {
   "cell_type": "code",
   "execution_count": 257,
   "id": "7f23adf6",
   "metadata": {},
   "outputs": [],
   "source": [
    "li3 = [item for item in range(50) if item %2==0]"
   ]
  },
  {
   "cell_type": "code",
   "execution_count": 258,
   "id": "6c8fa99a",
   "metadata": {},
   "outputs": [
    {
     "name": "stdout",
     "output_type": "stream",
     "text": [
      "[0, 2, 4, 6, 8, 10, 12, 14, 16, 18, 20, 22, 24, 26, 28, 30, 32, 34, 36, 38, 40, 42, 44, 46, 48]"
     ]
    }
   ],
   "source": [
    "print(li3, end='')"
   ]
  },
  {
   "cell_type": "code",
   "execution_count": null,
   "id": "5b9501b4",
   "metadata": {},
   "outputs": [],
   "source": []
  },
  {
   "cell_type": "code",
   "execution_count": 259,
   "id": "b5e7e50a",
   "metadata": {},
   "outputs": [],
   "source": [
    "my_function = lambda a,b,c:a+b"
   ]
  },
  {
   "cell_type": "code",
   "execution_count": 260,
   "id": "8c4b8f10",
   "metadata": {},
   "outputs": [
    {
     "data": {
      "text/plain": [
       "5"
      ]
     },
     "execution_count": 260,
     "metadata": {},
     "output_type": "execute_result"
    }
   ],
   "source": [
    "my_function(1,4,5)"
   ]
  },
  {
   "cell_type": "code",
   "execution_count": null,
   "id": "a42842c3",
   "metadata": {},
   "outputs": [],
   "source": []
  }
 ],
 "metadata": {
  "kernelspec": {
   "display_name": "Python 3 (ipykernel)",
   "language": "python",
   "name": "python3"
  },
  "language_info": {
   "codemirror_mode": {
    "name": "ipython",
    "version": 3
   },
   "file_extension": ".py",
   "mimetype": "text/x-python",
   "name": "python",
   "nbconvert_exporter": "python",
   "pygments_lexer": "ipython3",
   "version": "3.8.10"
  }
 },
 "nbformat": 4,
 "nbformat_minor": 5
}
