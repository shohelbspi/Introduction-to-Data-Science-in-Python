{
 "cells": [
  {
   "cell_type": "markdown",
   "id": "f6874e7d",
   "metadata": {},
   "source": [
    "# What is NumPy?\n",
    "\n",
    "#### NumPy is a Python library used for working with arrays.\n",
    "#### It also has functions for working in domain of linear algebra, and matrices. \n",
    "#### NumPy was created in 2005 by Travis Oliphant. It is an open source project and you can use it freely.\n",
    "#### NumPy stands for Numerical Python."
   ]
  },
  {
   "cell_type": "markdown",
   "id": "c93a20f0",
   "metadata": {},
   "source": [
    "# Why Use Numpy\n",
    "#### Consume Less Memory\n",
    "#### NumPy aims to provide an array object that is up to 50x faster than traditional Python lists.\n",
    "#### Arrays are very frequently used in data science, where speed and resources are very important.\n"
   ]
  },
  {
   "cell_type": "code",
   "execution_count": 1,
   "id": "45e28973",
   "metadata": {},
   "outputs": [],
   "source": [
    "# install numpy\n",
    "    #pip install numpy\n",
    "    \n",
    "# import numpy\n",
    "\n",
    "import numpy as np"
   ]
  },
  {
   "cell_type": "markdown",
   "id": "f2638753",
   "metadata": {},
   "source": [
    "# Difference between List and Array\n",
    "\n",
    "#### Datatypes Storage\n",
    "#### Importing Module\n",
    "#### Numerical Operation\n",
    "#### Convenient to use\n",
    "#### Modification Capabitilies"
   ]
  },
  {
   "cell_type": "code",
   "execution_count": 2,
   "id": "56750d12",
   "metadata": {},
   "outputs": [
    {
     "name": "stdout",
     "output_type": "stream",
     "text": [
      "[1 2 3 4]\n",
      "<class 'numpy.ndarray'>\n"
     ]
    }
   ],
   "source": [
    "x = np.array([1,2,3,4])\n",
    "print(x)\n",
    "print(type(x))"
   ]
  },
  {
   "cell_type": "code",
   "execution_count": 3,
   "id": "dbdcd2ac",
   "metadata": {},
   "outputs": [
    {
     "name": "stdout",
     "output_type": "stream",
     "text": [
      "[1, 2, 3, 4]\n",
      "<class 'list'>\n"
     ]
    }
   ],
   "source": [
    "y = [1,2,3,4]\n",
    "print(y)\n",
    "print(type(y))"
   ]
  },
  {
   "cell_type": "code",
   "execution_count": 4,
   "id": "da632bda",
   "metadata": {},
   "outputs": [
    {
     "name": "stdout",
     "output_type": "stream",
     "text": [
      "2.48 µs ± 148 ns per loop (mean ± std. dev. of 7 runs, 100000 loops each)\n"
     ]
    }
   ],
   "source": [
    "%timeit [j**4 for j in range(0,9)]"
   ]
  },
  {
   "cell_type": "code",
   "execution_count": 5,
   "id": "3e8f872c",
   "metadata": {},
   "outputs": [
    {
     "name": "stdout",
     "output_type": "stream",
     "text": [
      "2.07 µs ± 54.8 ns per loop (mean ± std. dev. of 7 runs, 100000 loops each)\n"
     ]
    }
   ],
   "source": [
    "%timeit np.arange(0,9)**4"
   ]
  },
  {
   "cell_type": "markdown",
   "id": "07a7d104",
   "metadata": {},
   "source": [
    "# Numpy Array Creation"
   ]
  },
  {
   "cell_type": "code",
   "execution_count": 6,
   "id": "5a888479",
   "metadata": {},
   "outputs": [
    {
     "data": {
      "text/plain": [
       "array([1, 2, 3])"
      ]
     },
     "execution_count": 6,
     "metadata": {},
     "output_type": "execute_result"
    }
   ],
   "source": [
    "a = np.array([1,2,3])\n",
    "a"
   ]
  },
  {
   "cell_type": "code",
   "execution_count": 7,
   "id": "3a0684d3",
   "metadata": {},
   "outputs": [
    {
     "data": {
      "text/plain": [
       "(3,)"
      ]
     },
     "execution_count": 7,
     "metadata": {},
     "output_type": "execute_result"
    }
   ],
   "source": [
    "a.shape"
   ]
  },
  {
   "cell_type": "code",
   "execution_count": 8,
   "id": "5055e878",
   "metadata": {},
   "outputs": [
    {
     "data": {
      "text/plain": [
       "array([1, 2, 3, 4, 6])"
      ]
     },
     "execution_count": 8,
     "metadata": {},
     "output_type": "execute_result"
    }
   ],
   "source": [
    "x = [1,2,3,4,6]\n",
    "y = np.array(x)\n",
    "\n",
    "y"
   ]
  },
  {
   "cell_type": "markdown",
   "id": "5529de54",
   "metadata": {},
   "source": [
    "### 1-D Array Create And Check Array Dimension "
   ]
  },
  {
   "cell_type": "code",
   "execution_count": 9,
   "id": "fa61c4a5",
   "metadata": {},
   "outputs": [],
   "source": [
    "a1 = np.array([1,2,3,4])"
   ]
  },
  {
   "cell_type": "code",
   "execution_count": 10,
   "id": "64f3fd19",
   "metadata": {},
   "outputs": [
    {
     "name": "stdout",
     "output_type": "stream",
     "text": [
      "[1 2 3 4]\n",
      "1\n"
     ]
    }
   ],
   "source": [
    "print(a1)\n",
    "print(a1.ndim)"
   ]
  },
  {
   "cell_type": "markdown",
   "id": "73e52f65",
   "metadata": {},
   "source": [
    "### 2-D Array Create And Check Array Dimension "
   ]
  },
  {
   "cell_type": "code",
   "execution_count": 11,
   "id": "fe1be6a5",
   "metadata": {},
   "outputs": [],
   "source": [
    "a2 = np.array([[1,2,3,4,5],[6,7,8,9,10]])"
   ]
  },
  {
   "cell_type": "code",
   "execution_count": 12,
   "id": "f74b5885",
   "metadata": {},
   "outputs": [
    {
     "name": "stdout",
     "output_type": "stream",
     "text": [
      "[[ 1  2  3  4  5]\n",
      " [ 6  7  8  9 10]]\n",
      "2\n"
     ]
    }
   ],
   "source": [
    "print(a2)\n",
    "print(a2.ndim)"
   ]
  },
  {
   "cell_type": "markdown",
   "id": "b86a3380",
   "metadata": {},
   "source": [
    "### 3-D Array Create And Check Array Dimension  "
   ]
  },
  {
   "cell_type": "code",
   "execution_count": 13,
   "id": "da210465",
   "metadata": {},
   "outputs": [],
   "source": [
    "a3 = np.array([[[1,2,3,4,5],[6,7,8,9,10],[11,12,13,14,15]]])"
   ]
  },
  {
   "cell_type": "code",
   "execution_count": 14,
   "id": "40ccd45e",
   "metadata": {},
   "outputs": [
    {
     "name": "stdout",
     "output_type": "stream",
     "text": [
      "[[[ 1  2  3  4  5]\n",
      "  [ 6  7  8  9 10]\n",
      "  [11 12 13 14 15]]]\n",
      "3\n"
     ]
    }
   ],
   "source": [
    "print(a3)\n",
    "print(a3.ndim)"
   ]
  },
  {
   "cell_type": "code",
   "execution_count": 15,
   "id": "825e1624",
   "metadata": {},
   "outputs": [],
   "source": [
    "ar =  np.array([1,2,3],ndmin=10)"
   ]
  },
  {
   "cell_type": "code",
   "execution_count": 16,
   "id": "e3b8cb4c",
   "metadata": {},
   "outputs": [
    {
     "name": "stdout",
     "output_type": "stream",
     "text": [
      "[[[[[[[[[[1 2 3]]]]]]]]]]\n",
      "10\n"
     ]
    }
   ],
   "source": [
    "print(ar)\n",
    "print(ar.ndim)"
   ]
  },
  {
   "cell_type": "markdown",
   "id": "669af16b",
   "metadata": {},
   "source": [
    "# Numpy Array Creation Using Function"
   ]
  },
  {
   "cell_type": "markdown",
   "id": "ebbf4a77",
   "metadata": {},
   "source": [
    "### Zeros Numpy Array"
   ]
  },
  {
   "cell_type": "code",
   "execution_count": 17,
   "id": "46dd8fd9",
   "metadata": {},
   "outputs": [],
   "source": [
    "ar_zero = np.zeros(4)"
   ]
  },
  {
   "cell_type": "code",
   "execution_count": 18,
   "id": "bbe8c4bf",
   "metadata": {},
   "outputs": [
    {
     "name": "stdout",
     "output_type": "stream",
     "text": [
      "[0. 0. 0. 0.]\n",
      "1\n"
     ]
    }
   ],
   "source": [
    "print(ar_zero)\n",
    "print(ar_zero.ndim)"
   ]
  },
  {
   "cell_type": "code",
   "execution_count": 19,
   "id": "27289b2b",
   "metadata": {},
   "outputs": [],
   "source": [
    "ar_zero2 = np.zeros((3,4))"
   ]
  },
  {
   "cell_type": "code",
   "execution_count": 20,
   "id": "6f73250b",
   "metadata": {},
   "outputs": [
    {
     "data": {
      "text/plain": [
       "array([[0., 0., 0., 0.],\n",
       "       [0., 0., 0., 0.],\n",
       "       [0., 0., 0., 0.]])"
      ]
     },
     "execution_count": 20,
     "metadata": {},
     "output_type": "execute_result"
    }
   ],
   "source": [
    "ar_zero2"
   ]
  },
  {
   "cell_type": "code",
   "execution_count": 21,
   "id": "b0c4d495",
   "metadata": {},
   "outputs": [
    {
     "data": {
      "text/plain": [
       "array([[0., 0., 0., 0.],\n",
       "       [0., 0., 0., 0.],\n",
       "       [0., 0., 0., 0.]])"
      ]
     },
     "execution_count": 21,
     "metadata": {},
     "output_type": "execute_result"
    }
   ],
   "source": [
    "np.zeros_like(ar_zero2)"
   ]
  },
  {
   "cell_type": "markdown",
   "id": "7590ac99",
   "metadata": {},
   "source": [
    "### Ones numpy array"
   ]
  },
  {
   "cell_type": "code",
   "execution_count": 22,
   "id": "aa30acb3",
   "metadata": {},
   "outputs": [],
   "source": [
    "ar_one = np.ones(2)"
   ]
  },
  {
   "cell_type": "code",
   "execution_count": 23,
   "id": "e0cf2eea",
   "metadata": {},
   "outputs": [
    {
     "data": {
      "text/plain": [
       "array([1., 1.])"
      ]
     },
     "execution_count": 23,
     "metadata": {},
     "output_type": "execute_result"
    }
   ],
   "source": [
    "ar_one"
   ]
  },
  {
   "cell_type": "code",
   "execution_count": 24,
   "id": "c0dd758b",
   "metadata": {},
   "outputs": [],
   "source": [
    "ar_one2 = np.ones((3,3))"
   ]
  },
  {
   "cell_type": "code",
   "execution_count": 25,
   "id": "fd4d7f91",
   "metadata": {},
   "outputs": [
    {
     "data": {
      "text/plain": [
       "array([[1., 1., 1.],\n",
       "       [1., 1., 1.],\n",
       "       [1., 1., 1.]])"
      ]
     },
     "execution_count": 25,
     "metadata": {},
     "output_type": "execute_result"
    }
   ],
   "source": [
    "ar_one2"
   ]
  },
  {
   "cell_type": "code",
   "execution_count": 26,
   "id": "a9eead29",
   "metadata": {},
   "outputs": [
    {
     "data": {
      "text/plain": [
       "array([0., 0.])"
      ]
     },
     "execution_count": 26,
     "metadata": {},
     "output_type": "execute_result"
    }
   ],
   "source": [
    "np.zeros_like(ar_one)"
   ]
  },
  {
   "cell_type": "markdown",
   "id": "b74d9c01",
   "metadata": {},
   "source": [
    "### Empty numpy array"
   ]
  },
  {
   "cell_type": "code",
   "execution_count": 27,
   "id": "828c84f5",
   "metadata": {},
   "outputs": [],
   "source": [
    "ar_emp = np.empty(4)"
   ]
  },
  {
   "cell_type": "code",
   "execution_count": 28,
   "id": "a63ab633",
   "metadata": {},
   "outputs": [
    {
     "data": {
      "text/plain": [
       "array([0., 0., 0., 0.])"
      ]
     },
     "execution_count": 28,
     "metadata": {},
     "output_type": "execute_result"
    }
   ],
   "source": [
    "ar_emp"
   ]
  },
  {
   "cell_type": "code",
   "execution_count": 29,
   "id": "3a1b8a36",
   "metadata": {},
   "outputs": [],
   "source": [
    "ar_emp2 = np.empty((3,4), dtype=float)"
   ]
  },
  {
   "cell_type": "code",
   "execution_count": 30,
   "id": "62e6ac5e",
   "metadata": {},
   "outputs": [
    {
     "data": {
      "text/plain": [
       "array([[0., 0., 0., 0.],\n",
       "       [0., 0., 0., 0.],\n",
       "       [0., 0., 0., 0.]])"
      ]
     },
     "execution_count": 30,
     "metadata": {},
     "output_type": "execute_result"
    }
   ],
   "source": [
    "ar_emp2"
   ]
  },
  {
   "cell_type": "code",
   "execution_count": 31,
   "id": "df1b9c81",
   "metadata": {},
   "outputs": [
    {
     "data": {
      "text/plain": [
       "numpy.ndarray"
      ]
     },
     "execution_count": 31,
     "metadata": {},
     "output_type": "execute_result"
    }
   ],
   "source": [
    "type(ar_emp2)"
   ]
  },
  {
   "cell_type": "code",
   "execution_count": 32,
   "id": "a41c1b25",
   "metadata": {},
   "outputs": [
    {
     "data": {
      "text/plain": [
       "dtype('float64')"
      ]
     },
     "execution_count": 32,
     "metadata": {},
     "output_type": "execute_result"
    }
   ],
   "source": [
    "ar_emp2.dtype"
   ]
  },
  {
   "cell_type": "markdown",
   "id": "c2abae88",
   "metadata": {},
   "source": [
    "### Range Numpy Array"
   ]
  },
  {
   "cell_type": "code",
   "execution_count": 33,
   "id": "e6669d3d",
   "metadata": {},
   "outputs": [],
   "source": [
    "ar_rn = np.arange(4)"
   ]
  },
  {
   "cell_type": "code",
   "execution_count": 34,
   "id": "151415e7",
   "metadata": {},
   "outputs": [
    {
     "data": {
      "text/plain": [
       "array([0, 1, 2, 3])"
      ]
     },
     "execution_count": 34,
     "metadata": {},
     "output_type": "execute_result"
    }
   ],
   "source": [
    "ar_rn"
   ]
  },
  {
   "cell_type": "markdown",
   "id": "5459a5c6",
   "metadata": {},
   "source": [
    "# identity numpy array"
   ]
  },
  {
   "cell_type": "code",
   "execution_count": 35,
   "id": "4bcba778",
   "metadata": {},
   "outputs": [],
   "source": [
    "arr_ide = np.identity(3)"
   ]
  },
  {
   "cell_type": "code",
   "execution_count": 36,
   "id": "9ef86cda",
   "metadata": {},
   "outputs": [
    {
     "data": {
      "text/plain": [
       "array([[1., 0., 0.],\n",
       "       [0., 1., 0.],\n",
       "       [0., 0., 1.]])"
      ]
     },
     "execution_count": 36,
     "metadata": {},
     "output_type": "execute_result"
    }
   ],
   "source": [
    "arr_ide"
   ]
  },
  {
   "cell_type": "code",
   "execution_count": 37,
   "id": "b5aedeec",
   "metadata": {},
   "outputs": [],
   "source": [
    "arr_ide2 = np.eye(3,6)"
   ]
  },
  {
   "cell_type": "code",
   "execution_count": 38,
   "id": "b7b843e6",
   "metadata": {},
   "outputs": [
    {
     "data": {
      "text/plain": [
       "array([[1., 0., 0., 0., 0., 0.],\n",
       "       [0., 1., 0., 0., 0., 0.],\n",
       "       [0., 0., 1., 0., 0., 0.]])"
      ]
     },
     "execution_count": 38,
     "metadata": {},
     "output_type": "execute_result"
    }
   ],
   "source": [
    "arr_ide2"
   ]
  },
  {
   "cell_type": "code",
   "execution_count": 39,
   "id": "6825b3f6",
   "metadata": {},
   "outputs": [
    {
     "data": {
      "text/plain": [
       "array([[1., 0., 0., 0.],\n",
       "       [0., 1., 0., 0.],\n",
       "       [0., 0., 1., 0.]])"
      ]
     },
     "execution_count": 39,
     "metadata": {},
     "output_type": "execute_result"
    }
   ],
   "source": [
    "np.eye(3,4)"
   ]
  },
  {
   "cell_type": "markdown",
   "id": "e41a15e1",
   "metadata": {},
   "source": [
    "### Full numpy array "
   ]
  },
  {
   "cell_type": "code",
   "execution_count": 40,
   "id": "9b0e7e03",
   "metadata": {},
   "outputs": [],
   "source": [
    "ar_full = np.full(2,2)"
   ]
  },
  {
   "cell_type": "code",
   "execution_count": 41,
   "id": "2b413311",
   "metadata": {},
   "outputs": [
    {
     "data": {
      "text/plain": [
       "array([2, 2])"
      ]
     },
     "execution_count": 41,
     "metadata": {},
     "output_type": "execute_result"
    }
   ],
   "source": [
    "ar_full"
   ]
  },
  {
   "cell_type": "code",
   "execution_count": 42,
   "id": "9085f7ba",
   "metadata": {},
   "outputs": [],
   "source": [
    "ar_full2 = np.full((2,2),34)"
   ]
  },
  {
   "cell_type": "code",
   "execution_count": 43,
   "id": "caa0e2f8",
   "metadata": {},
   "outputs": [
    {
     "data": {
      "text/plain": [
       "array([[34, 34],\n",
       "       [34, 34]])"
      ]
     },
     "execution_count": 43,
     "metadata": {},
     "output_type": "execute_result"
    }
   ],
   "source": [
    "ar_full2"
   ]
  },
  {
   "cell_type": "code",
   "execution_count": 44,
   "id": "abb431c5",
   "metadata": {},
   "outputs": [],
   "source": [
    "ar_full3 = np.full_like(ar_full2,11)"
   ]
  },
  {
   "cell_type": "code",
   "execution_count": 45,
   "id": "2cbc8268",
   "metadata": {},
   "outputs": [
    {
     "data": {
      "text/plain": [
       "array([[11, 11],\n",
       "       [11, 11]])"
      ]
     },
     "execution_count": 45,
     "metadata": {},
     "output_type": "execute_result"
    }
   ],
   "source": [
    "ar_full3"
   ]
  },
  {
   "cell_type": "code",
   "execution_count": 46,
   "id": "2f665ed1",
   "metadata": {},
   "outputs": [
    {
     "data": {
      "text/plain": [
       "dtype('int64')"
      ]
     },
     "execution_count": 46,
     "metadata": {},
     "output_type": "execute_result"
    }
   ],
   "source": [
    "ar_full3.dtype"
   ]
  },
  {
   "cell_type": "markdown",
   "id": "b65143e9",
   "metadata": {},
   "source": [
    "###  linspace numpy array"
   ]
  },
  {
   "cell_type": "code",
   "execution_count": 47,
   "id": "2dfa68f3",
   "metadata": {},
   "outputs": [
    {
     "data": {
      "text/plain": [
       "array([ 1, 13, 25, 37, 50])"
      ]
     },
     "execution_count": 47,
     "metadata": {},
     "output_type": "execute_result"
    }
   ],
   "source": [
    "np.linspace(1,50, num=5).astype(int)"
   ]
  },
  {
   "cell_type": "code",
   "execution_count": 48,
   "id": "4f85dafc",
   "metadata": {},
   "outputs": [],
   "source": [
    "x1 = np.logspace(0.1, 1, 10, endpoint=True)"
   ]
  },
  {
   "cell_type": "code",
   "execution_count": 49,
   "id": "6d6cead0",
   "metadata": {},
   "outputs": [
    {
     "data": {
      "text/plain": [
       "array([ 1.25892541,  1.58489319,  1.99526231,  2.51188643,  3.16227766,\n",
       "        3.98107171,  5.01187234,  6.30957344,  7.94328235, 10.        ])"
      ]
     },
     "execution_count": 49,
     "metadata": {},
     "output_type": "execute_result"
    }
   ],
   "source": [
    "x1"
   ]
  },
  {
   "cell_type": "code",
   "execution_count": 50,
   "id": "89acdc14",
   "metadata": {},
   "outputs": [],
   "source": [
    "x2 = np.logspace(0.1, 1, 10, endpoint=False)"
   ]
  },
  {
   "cell_type": "code",
   "execution_count": 51,
   "id": "97877b18",
   "metadata": {},
   "outputs": [
    {
     "data": {
      "text/plain": [
       "array([1.25892541, 1.54881662, 1.90546072, 2.34422882, 2.8840315 ,\n",
       "       3.54813389, 4.36515832, 5.37031796, 6.60693448, 8.12830516])"
      ]
     },
     "execution_count": 51,
     "metadata": {},
     "output_type": "execute_result"
    }
   ],
   "source": [
    "x2"
   ]
  },
  {
   "cell_type": "markdown",
   "id": "c355435f",
   "metadata": {},
   "source": [
    "# meshgrid "
   ]
  },
  {
   "cell_type": "code",
   "execution_count": 52,
   "id": "7507fde8",
   "metadata": {},
   "outputs": [],
   "source": [
    "x = np.linspace(-5, 5, 101)\n",
    "y = np.linspace(-5, 5, 101)"
   ]
  },
  {
   "cell_type": "code",
   "execution_count": 53,
   "id": "43673c65",
   "metadata": {},
   "outputs": [
    {
     "data": {
      "text/plain": [
       "array([-5. , -4.9, -4.8, -4.7, -4.6, -4.5, -4.4, -4.3, -4.2, -4.1, -4. ,\n",
       "       -3.9, -3.8, -3.7, -3.6, -3.5, -3.4, -3.3, -3.2, -3.1, -3. , -2.9,\n",
       "       -2.8, -2.7, -2.6, -2.5, -2.4, -2.3, -2.2, -2.1, -2. , -1.9, -1.8,\n",
       "       -1.7, -1.6, -1.5, -1.4, -1.3, -1.2, -1.1, -1. , -0.9, -0.8, -0.7,\n",
       "       -0.6, -0.5, -0.4, -0.3, -0.2, -0.1,  0. ,  0.1,  0.2,  0.3,  0.4,\n",
       "        0.5,  0.6,  0.7,  0.8,  0.9,  1. ,  1.1,  1.2,  1.3,  1.4,  1.5,\n",
       "        1.6,  1.7,  1.8,  1.9,  2. ,  2.1,  2.2,  2.3,  2.4,  2.5,  2.6,\n",
       "        2.7,  2.8,  2.9,  3. ,  3.1,  3.2,  3.3,  3.4,  3.5,  3.6,  3.7,\n",
       "        3.8,  3.9,  4. ,  4.1,  4.2,  4.3,  4.4,  4.5,  4.6,  4.7,  4.8,\n",
       "        4.9,  5. ])"
      ]
     },
     "execution_count": 53,
     "metadata": {},
     "output_type": "execute_result"
    }
   ],
   "source": [
    "x"
   ]
  },
  {
   "cell_type": "code",
   "execution_count": 54,
   "id": "509845b0",
   "metadata": {},
   "outputs": [],
   "source": [
    "xx, yy = np.meshgrid(x, y)"
   ]
  },
  {
   "cell_type": "code",
   "execution_count": 55,
   "id": "2ce583f2",
   "metadata": {},
   "outputs": [
    {
     "data": {
      "text/plain": [
       "array([[-5. , -4.9, -4.8, ...,  4.8,  4.9,  5. ],\n",
       "       [-5. , -4.9, -4.8, ...,  4.8,  4.9,  5. ],\n",
       "       [-5. , -4.9, -4.8, ...,  4.8,  4.9,  5. ],\n",
       "       ...,\n",
       "       [-5. , -4.9, -4.8, ...,  4.8,  4.9,  5. ],\n",
       "       [-5. , -4.9, -4.8, ...,  4.8,  4.9,  5. ],\n",
       "       [-5. , -4.9, -4.8, ...,  4.8,  4.9,  5. ]])"
      ]
     },
     "execution_count": 55,
     "metadata": {},
     "output_type": "execute_result"
    }
   ],
   "source": [
    "xx"
   ]
  },
  {
   "cell_type": "code",
   "execution_count": 56,
   "id": "f3747540",
   "metadata": {},
   "outputs": [
    {
     "data": {
      "text/plain": [
       "array([-5. , -4.9, -4.8, -4.7, -4.6, -4.5, -4.4, -4.3, -4.2, -4.1, -4. ,\n",
       "       -3.9, -3.8, -3.7, -3.6, -3.5, -3.4, -3.3, -3.2, -3.1, -3. , -2.9,\n",
       "       -2.8, -2.7, -2.6, -2.5, -2.4, -2.3, -2.2, -2.1, -2. , -1.9, -1.8,\n",
       "       -1.7, -1.6, -1.5, -1.4, -1.3, -1.2, -1.1, -1. , -0.9, -0.8, -0.7,\n",
       "       -0.6, -0.5, -0.4, -0.3, -0.2, -0.1,  0. ,  0.1,  0.2,  0.3,  0.4,\n",
       "        0.5,  0.6,  0.7,  0.8,  0.9,  1. ,  1.1,  1.2,  1.3,  1.4,  1.5,\n",
       "        1.6,  1.7,  1.8,  1.9,  2. ,  2.1,  2.2,  2.3,  2.4,  2.5,  2.6,\n",
       "        2.7,  2.8,  2.9,  3. ,  3.1,  3.2,  3.3,  3.4,  3.5,  3.6,  3.7,\n",
       "        3.8,  3.9,  4. ,  4.1,  4.2,  4.3,  4.4,  4.5,  4.6,  4.7,  4.8,\n",
       "        4.9,  5. ])"
      ]
     },
     "execution_count": 56,
     "metadata": {},
     "output_type": "execute_result"
    }
   ],
   "source": [
    "y"
   ]
  },
  {
   "cell_type": "code",
   "execution_count": 57,
   "id": "c91d61dd",
   "metadata": {},
   "outputs": [
    {
     "data": {
      "text/plain": [
       "array([[-5. , -5. , -5. , ..., -5. , -5. , -5. ],\n",
       "       [-4.9, -4.9, -4.9, ..., -4.9, -4.9, -4.9],\n",
       "       [-4.8, -4.8, -4.8, ..., -4.8, -4.8, -4.8],\n",
       "       ...,\n",
       "       [ 4.8,  4.8,  4.8, ...,  4.8,  4.8,  4.8],\n",
       "       [ 4.9,  4.9,  4.9, ...,  4.9,  4.9,  4.9],\n",
       "       [ 5. ,  5. ,  5. , ...,  5. ,  5. ,  5. ]])"
      ]
     },
     "execution_count": 57,
     "metadata": {},
     "output_type": "execute_result"
    }
   ],
   "source": [
    "yy"
   ]
  },
  {
   "cell_type": "code",
   "execution_count": 58,
   "id": "fa8a4334",
   "metadata": {},
   "outputs": [],
   "source": [
    "zz = np.sqrt(xx**2 + yy**2)"
   ]
  },
  {
   "cell_type": "code",
   "execution_count": 59,
   "id": "e6a33336",
   "metadata": {},
   "outputs": [
    {
     "data": {
      "image/png": "[encoded data removed]",
      "text/plain": [
       "<Figure size 432x288 with 2 Axes>"
      ]
     },
     "metadata": {
      "needs_background": "light"
     },
     "output_type": "display_data"
    }
   ],
   "source": [
    "import matplotlib.pyplot as plt\n",
    "h = plt.contourf(x, y, zz)\n",
    "plt.axis('scaled')\n",
    "plt.colorbar()\n",
    "plt.show()"
   ]
  },
  {
   "cell_type": "markdown",
   "id": "7b9b6061",
   "metadata": {},
   "source": [
    "# create numpy array with random values"
   ]
  },
  {
   "cell_type": "markdown",
   "id": "0e67b92d",
   "metadata": {},
   "source": [
    "### rand function\n",
    "#### this function generate  a random value between 0 & 1"
   ]
  },
  {
   "cell_type": "code",
   "execution_count": 60,
   "id": "a62e2974",
   "metadata": {},
   "outputs": [],
   "source": [
    "rand = np.random.rand(3,4)"
   ]
  },
  {
   "cell_type": "code",
   "execution_count": 61,
   "id": "ac0c7ff8",
   "metadata": {},
   "outputs": [
    {
     "data": {
      "text/plain": [
       "array([[0.64229699, 0.33026892, 0.9836852 , 0.44810041],\n",
       "       [0.81087882, 0.03442582, 0.57472042, 0.18457671],\n",
       "       [0.42205189, 0.42898048, 0.27924109, 0.9348665 ]])"
      ]
     },
     "execution_count": 61,
     "metadata": {},
     "output_type": "execute_result"
    }
   ],
   "source": [
    "rand"
   ]
  },
  {
   "cell_type": "markdown",
   "id": "e268fbb5",
   "metadata": {},
   "source": [
    "### randn  fucntion\n",
    "#### this function generete a random value closed to zero.. this maybe return possitive or negative number"
   ]
  },
  {
   "cell_type": "code",
   "execution_count": 62,
   "id": "06e604f5",
   "metadata": {},
   "outputs": [],
   "source": [
    "randn = np.random.randn(3,4)"
   ]
  },
  {
   "cell_type": "code",
   "execution_count": 63,
   "id": "cd924401",
   "metadata": {},
   "outputs": [
    {
     "data": {
      "text/plain": [
       "array([[-0.24437628,  1.61819716,  0.43516752, -0.03658931],\n",
       "       [ 1.0482966 ,  0.98132589,  0.89883813, -0.05614612],\n",
       "       [-0.22303668,  1.8213181 , -0.14569466,  0.53145494]])"
      ]
     },
     "execution_count": 63,
     "metadata": {},
     "output_type": "execute_result"
    }
   ],
   "source": [
    "randn"
   ]
  },
  {
   "cell_type": "markdown",
   "id": "ec2e1a76",
   "metadata": {},
   "source": [
    "### randint\n",
    "#### this function generate a random value between a given range"
   ]
  },
  {
   "cell_type": "code",
   "execution_count": 64,
   "id": "f71006f0",
   "metadata": {},
   "outputs": [
    {
     "data": {
      "text/plain": [
       "array([0, 0, 1, 0, 0, 0, 0, 0, 1, 0])"
      ]
     },
     "execution_count": 64,
     "metadata": {},
     "output_type": "execute_result"
    }
   ],
   "source": [
    "np.random.randint(2,size=10)"
   ]
  },
  {
   "cell_type": "code",
   "execution_count": 65,
   "id": "f565c6c0",
   "metadata": {},
   "outputs": [
    {
     "data": {
      "text/plain": [
       "array([4, 1, 4, 0, 0, 4, 3, 3, 0, 1])"
      ]
     },
     "execution_count": 65,
     "metadata": {},
     "output_type": "execute_result"
    }
   ],
   "source": [
    "np.random.randint(5, size=10)"
   ]
  },
  {
   "cell_type": "markdown",
   "id": "eca2ccb8",
   "metadata": {},
   "source": [
    "### randf function\n"
   ]
  },
  {
   "cell_type": "code",
   "execution_count": 66,
   "id": "6e4d49a4",
   "metadata": {},
   "outputs": [],
   "source": [
    "randf = np.random.ranf(3)"
   ]
  },
  {
   "cell_type": "code",
   "execution_count": 67,
   "id": "ea85b655",
   "metadata": {},
   "outputs": [
    {
     "data": {
      "text/plain": [
       "array([0.90612651, 0.61180543, 0.26334379])"
      ]
     },
     "execution_count": 67,
     "metadata": {},
     "output_type": "execute_result"
    }
   ],
   "source": [
    "randf"
   ]
  },
  {
   "cell_type": "code",
   "execution_count": 68,
   "id": "b06bdfa8",
   "metadata": {},
   "outputs": [],
   "source": [
    "randf2 = np.random.ranf(4)"
   ]
  },
  {
   "cell_type": "code",
   "execution_count": 69,
   "id": "0e96d2ce",
   "metadata": {},
   "outputs": [
    {
     "data": {
      "text/plain": [
       "array([0.46365475, 0.01595932, 0.61338145, 0.63988851])"
      ]
     },
     "execution_count": 69,
     "metadata": {},
     "output_type": "execute_result"
    }
   ],
   "source": [
    "randf2"
   ]
  },
  {
   "cell_type": "markdown",
   "id": "40d46b3e",
   "metadata": {},
   "source": [
    "# Data Types in Numpy Array"
   ]
  },
  {
   "cell_type": "code",
   "execution_count": 70,
   "id": "5cfae50f",
   "metadata": {},
   "outputs": [
    {
     "name": "stdout",
     "output_type": "stream",
     "text": [
      "int64\n"
     ]
    }
   ],
   "source": [
    "var = np.array([1,2,4,556,565,4])\n",
    "print(var.dtype)"
   ]
  },
  {
   "cell_type": "code",
   "execution_count": 71,
   "id": "f538f681",
   "metadata": {},
   "outputs": [
    {
     "name": "stdout",
     "output_type": "stream",
     "text": [
      "int64\n"
     ]
    }
   ],
   "source": [
    "var2 = np.array([1,2,4,56,65,4])\n",
    "print(var.dtype)"
   ]
  },
  {
   "cell_type": "code",
   "execution_count": 72,
   "id": "8ad8029d",
   "metadata": {},
   "outputs": [
    {
     "name": "stdout",
     "output_type": "stream",
     "text": [
      "float64\n"
     ]
    }
   ],
   "source": [
    "var3 = np.array([1.4,1.3,4.5,7.8])\n",
    "print(var3.dtype)"
   ]
  },
  {
   "cell_type": "code",
   "execution_count": 73,
   "id": "e2f611aa",
   "metadata": {},
   "outputs": [],
   "source": [
    "var4 = np.array(['S','H','o','h','e','l'])"
   ]
  },
  {
   "cell_type": "code",
   "execution_count": 74,
   "id": "1068fb17",
   "metadata": {},
   "outputs": [
    {
     "data": {
      "text/plain": [
       "dtype('<U1')"
      ]
     },
     "execution_count": 74,
     "metadata": {},
     "output_type": "execute_result"
    }
   ],
   "source": [
    "var4.dtype"
   ]
  },
  {
   "cell_type": "code",
   "execution_count": 75,
   "id": "22f0c665",
   "metadata": {},
   "outputs": [],
   "source": [
    "var5 = np.array(['S','H','o','h','e','l',1,2,3,4,5,6])"
   ]
  },
  {
   "cell_type": "code",
   "execution_count": 76,
   "id": "f0f22557",
   "metadata": {},
   "outputs": [
    {
     "data": {
      "text/plain": [
       "dtype('<U21')"
      ]
     },
     "execution_count": 76,
     "metadata": {},
     "output_type": "execute_result"
    }
   ],
   "source": [
    "var5.dtype"
   ]
  },
  {
   "cell_type": "code",
   "execution_count": 77,
   "id": "00172633",
   "metadata": {},
   "outputs": [],
   "source": [
    "var6 = np.array([1,2,3,4])"
   ]
  },
  {
   "cell_type": "code",
   "execution_count": 78,
   "id": "69aff3d8",
   "metadata": {},
   "outputs": [
    {
     "data": {
      "text/plain": [
       "dtype('int64')"
      ]
     },
     "execution_count": 78,
     "metadata": {},
     "output_type": "execute_result"
    }
   ],
   "source": [
    "var6.dtype"
   ]
  },
  {
   "cell_type": "code",
   "execution_count": 79,
   "id": "45c2550d",
   "metadata": {},
   "outputs": [],
   "source": [
    "var6.dtype = 'int8'"
   ]
  },
  {
   "cell_type": "code",
   "execution_count": 80,
   "id": "f88a3e8d",
   "metadata": {},
   "outputs": [
    {
     "data": {
      "text/plain": [
       "dtype('int8')"
      ]
     },
     "execution_count": 80,
     "metadata": {},
     "output_type": "execute_result"
    }
   ],
   "source": [
    "var6.dtype"
   ]
  },
  {
   "cell_type": "code",
   "execution_count": 81,
   "id": "04b0fe64",
   "metadata": {},
   "outputs": [],
   "source": [
    "var6 = np.array([1,2,3,4], dtype=np.int32)"
   ]
  },
  {
   "cell_type": "code",
   "execution_count": 82,
   "id": "1e2bd135",
   "metadata": {},
   "outputs": [
    {
     "data": {
      "text/plain": [
       "dtype('int32')"
      ]
     },
     "execution_count": 82,
     "metadata": {},
     "output_type": "execute_result"
    }
   ],
   "source": [
    "var6.dtype"
   ]
  },
  {
   "cell_type": "code",
   "execution_count": 83,
   "id": "0f57797e",
   "metadata": {},
   "outputs": [],
   "source": [
    "var7 =  np.array([1,2,3,4,5],dtype=np.float16)"
   ]
  },
  {
   "cell_type": "code",
   "execution_count": 84,
   "id": "46af2a79",
   "metadata": {},
   "outputs": [
    {
     "data": {
      "text/plain": [
       "dtype('float16')"
      ]
     },
     "execution_count": 84,
     "metadata": {},
     "output_type": "execute_result"
    }
   ],
   "source": [
    "var7.dtype"
   ]
  },
  {
   "cell_type": "code",
   "execution_count": 85,
   "id": "8cdb2b5a",
   "metadata": {},
   "outputs": [
    {
     "name": "stdout",
     "output_type": "stream",
     "text": [
      "[1 2 3 4]\n",
      "[1. 2. 3. 4.]\n",
      "int64\n",
      "float16\n"
     ]
    }
   ],
   "source": [
    "var8 = np.array([1,2,3,4])\n",
    "new = np.float16(var8)\n",
    "\n",
    "print(var8)\n",
    "print(new)\n",
    "\n",
    "print(var8.dtype)\n",
    "print(new.dtype)"
   ]
  },
  {
   "cell_type": "code",
   "execution_count": 86,
   "id": "00587e58",
   "metadata": {},
   "outputs": [],
   "source": [
    "var9 = var8.astype('float64')"
   ]
  },
  {
   "cell_type": "code",
   "execution_count": 87,
   "id": "01012b84",
   "metadata": {},
   "outputs": [
    {
     "data": {
      "text/plain": [
       "dtype('float64')"
      ]
     },
     "execution_count": 87,
     "metadata": {},
     "output_type": "execute_result"
    }
   ],
   "source": [
    "var9.dtype"
   ]
  },
  {
   "cell_type": "markdown",
   "id": "802c0eb0",
   "metadata": {},
   "source": [
    "# Shape and Reshape in NumPy"
   ]
  },
  {
   "cell_type": "markdown",
   "id": "27982e45",
   "metadata": {},
   "source": [
    "### Shape "
   ]
  },
  {
   "cell_type": "code",
   "execution_count": 88,
   "id": "3ce2728b",
   "metadata": {},
   "outputs": [],
   "source": [
    "sh = np.array([[1,2,3,4],[1,2,3,4]])"
   ]
  },
  {
   "cell_type": "code",
   "execution_count": 89,
   "id": "4e0fdac2",
   "metadata": {},
   "outputs": [
    {
     "data": {
      "text/plain": [
       "(2, 4)"
      ]
     },
     "execution_count": 89,
     "metadata": {},
     "output_type": "execute_result"
    }
   ],
   "source": [
    "sh.shape"
   ]
  },
  {
   "cell_type": "code",
   "execution_count": 90,
   "id": "7d7a4f39",
   "metadata": {},
   "outputs": [
    {
     "data": {
      "text/plain": [
       "array([[1, 2, 3, 4],\n",
       "       [1, 2, 3, 4]])"
      ]
     },
     "execution_count": 90,
     "metadata": {},
     "output_type": "execute_result"
    }
   ],
   "source": [
    "sh"
   ]
  },
  {
   "cell_type": "code",
   "execution_count": 91,
   "id": "994faac7",
   "metadata": {},
   "outputs": [],
   "source": [
    "sh1 = np.array([1,2,3,4],ndmin=4)"
   ]
  },
  {
   "cell_type": "code",
   "execution_count": 92,
   "id": "a93ba605",
   "metadata": {},
   "outputs": [
    {
     "data": {
      "text/plain": [
       "array([[[[1, 2, 3, 4]]]])"
      ]
     },
     "execution_count": 92,
     "metadata": {},
     "output_type": "execute_result"
    }
   ],
   "source": [
    "sh1 "
   ]
  },
  {
   "cell_type": "code",
   "execution_count": 93,
   "id": "9992bee0",
   "metadata": {},
   "outputs": [
    {
     "data": {
      "text/plain": [
       "(1, 1, 1, 4)"
      ]
     },
     "execution_count": 93,
     "metadata": {},
     "output_type": "execute_result"
    }
   ],
   "source": [
    "sh1.shape"
   ]
  },
  {
   "cell_type": "markdown",
   "id": "8f0d4521",
   "metadata": {},
   "source": [
    "# reshape"
   ]
  },
  {
   "cell_type": "code",
   "execution_count": 94,
   "id": "54e2581f",
   "metadata": {},
   "outputs": [],
   "source": [
    "sh3 = np.array([1,2,3,4])"
   ]
  },
  {
   "cell_type": "code",
   "execution_count": 95,
   "id": "08101114",
   "metadata": {},
   "outputs": [],
   "source": [
    "sh4 = sh3.reshape(2,2)"
   ]
  },
  {
   "cell_type": "code",
   "execution_count": 96,
   "id": "da4bdcb6",
   "metadata": {},
   "outputs": [
    {
     "data": {
      "text/plain": [
       "array([[1, 2],\n",
       "       [3, 4]])"
      ]
     },
     "execution_count": 96,
     "metadata": {},
     "output_type": "execute_result"
    }
   ],
   "source": [
    "sh4"
   ]
  },
  {
   "cell_type": "code",
   "execution_count": 97,
   "id": "fcd2d46c",
   "metadata": {},
   "outputs": [
    {
     "data": {
      "text/plain": [
       "2"
      ]
     },
     "execution_count": 97,
     "metadata": {},
     "output_type": "execute_result"
    }
   ],
   "source": [
    "sh4.ndim"
   ]
  },
  {
   "cell_type": "code",
   "execution_count": 98,
   "id": "dc2cbdf4",
   "metadata": {},
   "outputs": [
    {
     "data": {
      "text/plain": [
       "1"
      ]
     },
     "execution_count": 98,
     "metadata": {},
     "output_type": "execute_result"
    }
   ],
   "source": [
    "sh3.ndim"
   ]
  },
  {
   "cell_type": "markdown",
   "id": "90c5a4c6",
   "metadata": {},
   "source": [
    "# NumPy - Arithmetic Operations"
   ]
  },
  {
   "cell_type": "code",
   "execution_count": 99,
   "id": "a1fae656",
   "metadata": {},
   "outputs": [],
   "source": [
    "arr1 = np.array([1,2,3,4])\n",
    "arr1_add = arr1+3"
   ]
  },
  {
   "cell_type": "code",
   "execution_count": 100,
   "id": "65ad9a83",
   "metadata": {},
   "outputs": [
    {
     "data": {
      "text/plain": [
       "array([4, 5, 6, 7])"
      ]
     },
     "execution_count": 100,
     "metadata": {},
     "output_type": "execute_result"
    }
   ],
   "source": [
    "arr1_add"
   ]
  },
  {
   "cell_type": "code",
   "execution_count": 101,
   "id": "8ee78a79",
   "metadata": {},
   "outputs": [],
   "source": [
    "arr2 = np.array([1,2,3,4])"
   ]
  },
  {
   "cell_type": "code",
   "execution_count": 102,
   "id": "73321a36",
   "metadata": {},
   "outputs": [],
   "source": [
    "arr2_add = arr1+arr2"
   ]
  },
  {
   "cell_type": "code",
   "execution_count": 103,
   "id": "ccf50731",
   "metadata": {},
   "outputs": [
    {
     "data": {
      "text/plain": [
       "array([2, 4, 6, 8])"
      ]
     },
     "execution_count": 103,
     "metadata": {},
     "output_type": "execute_result"
    }
   ],
   "source": [
    "arr2_add"
   ]
  },
  {
   "cell_type": "code",
   "execution_count": 104,
   "id": "d3834b87",
   "metadata": {},
   "outputs": [],
   "source": [
    "arr3_add = sum(arr1,arr2)"
   ]
  },
  {
   "cell_type": "code",
   "execution_count": 105,
   "id": "dd5f1128",
   "metadata": {},
   "outputs": [
    {
     "data": {
      "text/plain": [
       "array([11, 12, 13, 14])"
      ]
     },
     "execution_count": 105,
     "metadata": {},
     "output_type": "execute_result"
    }
   ],
   "source": [
    "arr3_add"
   ]
  },
  {
   "cell_type": "code",
   "execution_count": 106,
   "id": "c72cb682",
   "metadata": {},
   "outputs": [],
   "source": [
    " arr1_sub = arr1-arr2"
   ]
  },
  {
   "cell_type": "code",
   "execution_count": 107,
   "id": "1da78c99",
   "metadata": {},
   "outputs": [
    {
     "data": {
      "text/plain": [
       "array([0, 0, 0, 0])"
      ]
     },
     "execution_count": 107,
     "metadata": {},
     "output_type": "execute_result"
    }
   ],
   "source": [
    "arr1_sub"
   ]
  },
  {
   "cell_type": "code",
   "execution_count": 108,
   "id": "74e7eb7d",
   "metadata": {},
   "outputs": [],
   "source": [
    "arr1_mul = arr1*arr2"
   ]
  },
  {
   "cell_type": "code",
   "execution_count": 109,
   "id": "d4c2b172",
   "metadata": {},
   "outputs": [
    {
     "data": {
      "text/plain": [
       "array([ 1,  4,  9, 16])"
      ]
     },
     "execution_count": 109,
     "metadata": {},
     "output_type": "execute_result"
    }
   ],
   "source": [
    "arr1_mul"
   ]
  },
  {
   "cell_type": "code",
   "execution_count": 110,
   "id": "d7f451f6",
   "metadata": {},
   "outputs": [],
   "source": [
    "arr1_pow = arr1**arr2"
   ]
  },
  {
   "cell_type": "code",
   "execution_count": 111,
   "id": "a0a7421a",
   "metadata": {},
   "outputs": [
    {
     "data": {
      "text/plain": [
       "array([  1,   4,  27, 256])"
      ]
     },
     "execution_count": 111,
     "metadata": {},
     "output_type": "execute_result"
    }
   ],
   "source": [
    "arr1_pow"
   ]
  },
  {
   "cell_type": "code",
   "execution_count": 112,
   "id": "878c659d",
   "metadata": {},
   "outputs": [],
   "source": [
    "arr1_div = arr1/arr2"
   ]
  },
  {
   "cell_type": "code",
   "execution_count": 113,
   "id": "635d6d45",
   "metadata": {},
   "outputs": [
    {
     "data": {
      "text/plain": [
       "array([1., 1., 1., 1.])"
      ]
     },
     "execution_count": 113,
     "metadata": {},
     "output_type": "execute_result"
    }
   ],
   "source": [
    " arr1_div"
   ]
  },
  {
   "cell_type": "code",
   "execution_count": 114,
   "id": "6b1fae4c",
   "metadata": {},
   "outputs": [],
   "source": [
    "arr1_mod = arr1/arr2"
   ]
  },
  {
   "cell_type": "code",
   "execution_count": 115,
   "id": "e27e354a",
   "metadata": {},
   "outputs": [
    {
     "data": {
      "text/plain": [
       "array([1., 1., 1., 1.])"
      ]
     },
     "execution_count": 115,
     "metadata": {},
     "output_type": "execute_result"
    }
   ],
   "source": [
    "arr1_mod"
   ]
  },
  {
   "cell_type": "code",
   "execution_count": 116,
   "id": "3a44ab30",
   "metadata": {},
   "outputs": [],
   "source": [
    "arr4_add = np.add(arr1,arr2)"
   ]
  },
  {
   "cell_type": "code",
   "execution_count": 117,
   "id": "80438db0",
   "metadata": {},
   "outputs": [
    {
     "data": {
      "text/plain": [
       "array([2, 4, 6, 8])"
      ]
     },
     "execution_count": 117,
     "metadata": {},
     "output_type": "execute_result"
    }
   ],
   "source": [
    "arr4_add"
   ]
  },
  {
   "cell_type": "code",
   "execution_count": 118,
   "id": "26fd526a",
   "metadata": {},
   "outputs": [],
   "source": [
    "arr5_add = np.add(arr1,3)"
   ]
  },
  {
   "cell_type": "code",
   "execution_count": 119,
   "id": "ad47c572",
   "metadata": {},
   "outputs": [
    {
     "data": {
      "text/plain": [
       "array([4, 5, 6, 7])"
      ]
     },
     "execution_count": 119,
     "metadata": {},
     "output_type": "execute_result"
    }
   ],
   "source": [
    "arr5_add"
   ]
  },
  {
   "cell_type": "code",
   "execution_count": 120,
   "id": "ca43a88d",
   "metadata": {},
   "outputs": [],
   "source": [
    "arr3 = np.array([5,6,7,8])"
   ]
  },
  {
   "cell_type": "code",
   "execution_count": 121,
   "id": "6911f16a",
   "metadata": {},
   "outputs": [],
   "source": [
    "arr2_sub = np.subtract(arr3,arr2)"
   ]
  },
  {
   "cell_type": "code",
   "execution_count": 122,
   "id": "080fdc9c",
   "metadata": {},
   "outputs": [
    {
     "data": {
      "text/plain": [
       "array([4, 4, 4, 4])"
      ]
     },
     "execution_count": 122,
     "metadata": {},
     "output_type": "execute_result"
    }
   ],
   "source": [
    "arr2_sub"
   ]
  },
  {
   "cell_type": "code",
   "execution_count": 123,
   "id": "95dbf1f4",
   "metadata": {},
   "outputs": [],
   "source": [
    "arr2_mul = np.multiply(arr1,arr3)"
   ]
  },
  {
   "cell_type": "code",
   "execution_count": 124,
   "id": "ef663417",
   "metadata": {},
   "outputs": [
    {
     "data": {
      "text/plain": [
       "array([ 5, 12, 21, 32])"
      ]
     },
     "execution_count": 124,
     "metadata": {},
     "output_type": "execute_result"
    }
   ],
   "source": [
    "arr2_mul"
   ]
  },
  {
   "cell_type": "code",
   "execution_count": 125,
   "id": "193d098f",
   "metadata": {},
   "outputs": [],
   "source": [
    "arr2_pow = np.power(arr1,arr3)"
   ]
  },
  {
   "cell_type": "code",
   "execution_count": 126,
   "id": "0721a972",
   "metadata": {},
   "outputs": [
    {
     "data": {
      "text/plain": [
       "array([    1,    64,  2187, 65536])"
      ]
     },
     "execution_count": 126,
     "metadata": {},
     "output_type": "execute_result"
    }
   ],
   "source": [
    "arr2_pow"
   ]
  },
  {
   "cell_type": "code",
   "execution_count": 127,
   "id": "a20052ba",
   "metadata": {},
   "outputs": [],
   "source": [
    "arr2_div = np.divide(arr3,arr1)"
   ]
  },
  {
   "cell_type": "code",
   "execution_count": 128,
   "id": "833757b2",
   "metadata": {},
   "outputs": [
    {
     "data": {
      "text/plain": [
       "array([5.        , 3.        , 2.33333333, 2.        ])"
      ]
     },
     "execution_count": 128,
     "metadata": {},
     "output_type": "execute_result"
    }
   ],
   "source": [
    "arr2_div"
   ]
  },
  {
   "cell_type": "code",
   "execution_count": 129,
   "id": "f970d394",
   "metadata": {},
   "outputs": [],
   "source": [
    "arr2_mod = np.mod(arr3,arr1)"
   ]
  },
  {
   "cell_type": "code",
   "execution_count": 130,
   "id": "5dbcbc5c",
   "metadata": {},
   "outputs": [
    {
     "data": {
      "text/plain": [
       "array([0, 0, 1, 0])"
      ]
     },
     "execution_count": 130,
     "metadata": {},
     "output_type": "execute_result"
    }
   ],
   "source": [
    "arr2_mod"
   ]
  },
  {
   "cell_type": "markdown",
   "id": "6372e4d9",
   "metadata": {},
   "source": [
    "### 2-D/Multi dimension Array "
   ]
  },
  {
   "cell_type": "code",
   "execution_count": 131,
   "id": "ecd02baf",
   "metadata": {},
   "outputs": [],
   "source": [
    "ar21 = np.array([[1,2,3,4],[1,2,3,4]])\n",
    "ar22 = np.array([[1,2,3,4],[1,2,3,4]])"
   ]
  },
  {
   "cell_type": "code",
   "execution_count": 132,
   "id": "958766bb",
   "metadata": {},
   "outputs": [],
   "source": [
    "arradd = ar21 + ar22"
   ]
  },
  {
   "cell_type": "code",
   "execution_count": 133,
   "id": "9a4ff809",
   "metadata": {},
   "outputs": [
    {
     "data": {
      "text/plain": [
       "array([[2, 4, 6, 8],\n",
       "       [2, 4, 6, 8]])"
      ]
     },
     "execution_count": 133,
     "metadata": {},
     "output_type": "execute_result"
    }
   ],
   "source": [
    "arradd"
   ]
  },
  {
   "cell_type": "code",
   "execution_count": 134,
   "id": "2b538e51",
   "metadata": {},
   "outputs": [],
   "source": [
    "arradd2 = np.add(ar21,ar22)"
   ]
  },
  {
   "cell_type": "code",
   "execution_count": 135,
   "id": "78ded3cf",
   "metadata": {},
   "outputs": [
    {
     "data": {
      "text/plain": [
       "array([[2, 4, 6, 8],\n",
       "       [2, 4, 6, 8]])"
      ]
     },
     "execution_count": 135,
     "metadata": {},
     "output_type": "execute_result"
    }
   ],
   "source": [
    "arradd2"
   ]
  },
  {
   "cell_type": "code",
   "execution_count": 136,
   "id": "3206a89a",
   "metadata": {},
   "outputs": [],
   "source": [
    "arrsub = ar21 - ar22"
   ]
  },
  {
   "cell_type": "code",
   "execution_count": 137,
   "id": "92e5ad80",
   "metadata": {},
   "outputs": [
    {
     "data": {
      "text/plain": [
       "array([[0, 0, 0, 0],\n",
       "       [0, 0, 0, 0]])"
      ]
     },
     "execution_count": 137,
     "metadata": {},
     "output_type": "execute_result"
    }
   ],
   "source": [
    "arrsub"
   ]
  },
  {
   "cell_type": "code",
   "execution_count": 138,
   "id": "a8fb05e7",
   "metadata": {},
   "outputs": [],
   "source": [
    "arrsub2 = np.subtract(ar21,ar22)"
   ]
  },
  {
   "cell_type": "code",
   "execution_count": 139,
   "id": "5d9ba3f9",
   "metadata": {},
   "outputs": [
    {
     "data": {
      "text/plain": [
       "array([[0, 0, 0, 0],\n",
       "       [0, 0, 0, 0]])"
      ]
     },
     "execution_count": 139,
     "metadata": {},
     "output_type": "execute_result"
    }
   ],
   "source": [
    "arrsub2 "
   ]
  },
  {
   "cell_type": "code",
   "execution_count": 140,
   "id": "62639472",
   "metadata": {},
   "outputs": [],
   "source": [
    "arrdiv = ar21 /ar22"
   ]
  },
  {
   "cell_type": "code",
   "execution_count": 141,
   "id": "e7a9887c",
   "metadata": {},
   "outputs": [
    {
     "data": {
      "text/plain": [
       "array([[1., 1., 1., 1.],\n",
       "       [1., 1., 1., 1.]])"
      ]
     },
     "execution_count": 141,
     "metadata": {},
     "output_type": "execute_result"
    }
   ],
   "source": [
    "arrdiv"
   ]
  },
  {
   "cell_type": "code",
   "execution_count": 142,
   "id": "55c012e5",
   "metadata": {},
   "outputs": [],
   "source": [
    "arrdiv2 = np.divide(ar21,ar22)"
   ]
  },
  {
   "cell_type": "code",
   "execution_count": 143,
   "id": "bbffd909",
   "metadata": {},
   "outputs": [
    {
     "data": {
      "text/plain": [
       "array([[1., 1., 1., 1.],\n",
       "       [1., 1., 1., 1.]])"
      ]
     },
     "execution_count": 143,
     "metadata": {},
     "output_type": "execute_result"
    }
   ],
   "source": [
    "arrdiv2"
   ]
  },
  {
   "cell_type": "code",
   "execution_count": 144,
   "id": "d051c194",
   "metadata": {},
   "outputs": [],
   "source": [
    "arrmod = ar21 % ar22"
   ]
  },
  {
   "cell_type": "code",
   "execution_count": 145,
   "id": "f323b1cb",
   "metadata": {},
   "outputs": [
    {
     "data": {
      "text/plain": [
       "array([[0, 0, 0, 0],\n",
       "       [0, 0, 0, 0]])"
      ]
     },
     "execution_count": 145,
     "metadata": {},
     "output_type": "execute_result"
    }
   ],
   "source": [
    "arrmod"
   ]
  },
  {
   "cell_type": "code",
   "execution_count": 146,
   "id": "b8b77976",
   "metadata": {},
   "outputs": [],
   "source": [
    "arrmod2 = np.mod(ar21,ar22)"
   ]
  },
  {
   "cell_type": "code",
   "execution_count": 147,
   "id": "fb8dbc2a",
   "metadata": {},
   "outputs": [
    {
     "data": {
      "text/plain": [
       "array([[0, 0, 0, 0],\n",
       "       [0, 0, 0, 0]])"
      ]
     },
     "execution_count": 147,
     "metadata": {},
     "output_type": "execute_result"
    }
   ],
   "source": [
    "arrmod2"
   ]
  },
  {
   "cell_type": "code",
   "execution_count": 148,
   "id": "d724e4cb",
   "metadata": {},
   "outputs": [],
   "source": [
    "arrmul = ar21*ar22"
   ]
  },
  {
   "cell_type": "code",
   "execution_count": 149,
   "id": "41ad6a68",
   "metadata": {},
   "outputs": [
    {
     "data": {
      "text/plain": [
       "array([[ 1,  4,  9, 16],\n",
       "       [ 1,  4,  9, 16]])"
      ]
     },
     "execution_count": 149,
     "metadata": {},
     "output_type": "execute_result"
    }
   ],
   "source": [
    "arrmul"
   ]
  },
  {
   "cell_type": "code",
   "execution_count": 150,
   "id": "9c0551c5",
   "metadata": {},
   "outputs": [],
   "source": [
    "arrmul2 = np.multiply(ar21,ar22)"
   ]
  },
  {
   "cell_type": "code",
   "execution_count": 151,
   "id": "f8590e38",
   "metadata": {},
   "outputs": [
    {
     "data": {
      "text/plain": [
       "array([[ 1,  4,  9, 16],\n",
       "       [ 1,  4,  9, 16]])"
      ]
     },
     "execution_count": 151,
     "metadata": {},
     "output_type": "execute_result"
    }
   ],
   "source": [
    "arrmul2"
   ]
  },
  {
   "cell_type": "code",
   "execution_count": 152,
   "id": "6ebc1966",
   "metadata": {},
   "outputs": [],
   "source": [
    "arrpow = ar21**ar22"
   ]
  },
  {
   "cell_type": "code",
   "execution_count": 153,
   "id": "1ac19eb3",
   "metadata": {},
   "outputs": [
    {
     "data": {
      "text/plain": [
       "array([[  1,   4,  27, 256],\n",
       "       [  1,   4,  27, 256]])"
      ]
     },
     "execution_count": 153,
     "metadata": {},
     "output_type": "execute_result"
    }
   ],
   "source": [
    "arrpow"
   ]
  },
  {
   "cell_type": "code",
   "execution_count": 154,
   "id": "24d83300",
   "metadata": {},
   "outputs": [],
   "source": [
    "arrpow2 = np.power(ar21,ar22)"
   ]
  },
  {
   "cell_type": "code",
   "execution_count": 155,
   "id": "331c3caa",
   "metadata": {},
   "outputs": [
    {
     "data": {
      "text/plain": [
       "array([[  1,   4,  27, 256],\n",
       "       [  1,   4,  27, 256]])"
      ]
     },
     "execution_count": 155,
     "metadata": {},
     "output_type": "execute_result"
    }
   ],
   "source": [
    "arrpow2"
   ]
  },
  {
   "cell_type": "code",
   "execution_count": 156,
   "id": "b4287774",
   "metadata": {},
   "outputs": [],
   "source": [
    "x = np.array([1,3,45,53,22,66,4])\n",
    " \n"
   ]
  },
  {
   "cell_type": "code",
   "execution_count": 157,
   "id": "777e1c63",
   "metadata": {},
   "outputs": [
    {
     "data": {
      "text/plain": [
       "27.714285714285715"
      ]
     },
     "execution_count": 157,
     "metadata": {},
     "output_type": "execute_result"
    }
   ],
   "source": [
    "np.mean(x)"
   ]
  },
  {
   "cell_type": "code",
   "execution_count": 158,
   "id": "35c15f89",
   "metadata": {},
   "outputs": [
    {
     "data": {
      "text/plain": [
       "0"
      ]
     },
     "execution_count": 158,
     "metadata": {},
     "output_type": "execute_result"
    }
   ],
   "source": [
    "np.argmin(x)"
   ]
  },
  {
   "cell_type": "code",
   "execution_count": 159,
   "id": "6e225624",
   "metadata": {},
   "outputs": [
    {
     "data": {
      "text/plain": [
       "66"
      ]
     },
     "execution_count": 159,
     "metadata": {},
     "output_type": "execute_result"
    }
   ],
   "source": [
    "np.max(x)"
   ]
  },
  {
   "cell_type": "code",
   "execution_count": 160,
   "id": "d8fb0738",
   "metadata": {},
   "outputs": [
    {
     "data": {
      "text/plain": [
       "5"
      ]
     },
     "execution_count": 160,
     "metadata": {},
     "output_type": "execute_result"
    }
   ],
   "source": [
    "np.argmax(x)"
   ]
  },
  {
   "cell_type": "code",
   "execution_count": 161,
   "id": "33857b03",
   "metadata": {},
   "outputs": [
    {
     "data": {
      "text/plain": [
       "24.852216260551582"
      ]
     },
     "execution_count": 161,
     "metadata": {},
     "output_type": "execute_result"
    }
   ],
   "source": [
    "np.std(x)"
   ]
  },
  {
   "cell_type": "code",
   "execution_count": 162,
   "id": "f73d67ff",
   "metadata": {},
   "outputs": [
    {
     "data": {
      "text/plain": [
       "27.714285714285715"
      ]
     },
     "execution_count": 162,
     "metadata": {},
     "output_type": "execute_result"
    }
   ],
   "source": [
    "np.mean(x)"
   ]
  },
  {
   "cell_type": "code",
   "execution_count": 163,
   "id": "28d42455",
   "metadata": {},
   "outputs": [
    {
     "data": {
      "text/plain": [
       "22.0"
      ]
     },
     "execution_count": 163,
     "metadata": {},
     "output_type": "execute_result"
    }
   ],
   "source": [
    "np.median(x)"
   ]
  },
  {
   "cell_type": "code",
   "execution_count": 164,
   "id": "0e73396a",
   "metadata": {},
   "outputs": [
    {
     "data": {
      "text/plain": [
       "24.852216260551582"
      ]
     },
     "execution_count": 164,
     "metadata": {},
     "output_type": "execute_result"
    }
   ],
   "source": [
    "np.std(x)"
   ]
  },
  {
   "cell_type": "code",
   "execution_count": 165,
   "id": "1177eab9",
   "metadata": {},
   "outputs": [
    {
     "data": {
      "text/plain": [
       "27.714285714285715"
      ]
     },
     "execution_count": 165,
     "metadata": {},
     "output_type": "execute_result"
    }
   ],
   "source": [
    "np.average(x)"
   ]
  },
  {
   "cell_type": "code",
   "execution_count": 166,
   "id": "65ec5b52",
   "metadata": {},
   "outputs": [
    {
     "data": {
      "text/plain": [
       "24.852216260551582"
      ]
     },
     "execution_count": 166,
     "metadata": {},
     "output_type": "execute_result"
    }
   ],
   "source": [
    "np.std(x)"
   ]
  },
  {
   "cell_type": "code",
   "execution_count": 167,
   "id": "d7624b18",
   "metadata": {},
   "outputs": [
    {
     "data": {
      "text/plain": [
       "617.6326530612245"
      ]
     },
     "execution_count": 167,
     "metadata": {},
     "output_type": "execute_result"
    }
   ],
   "source": [
    "np.var(x)"
   ]
  },
  {
   "cell_type": "code",
   "execution_count": 168,
   "id": "9b396ee8",
   "metadata": {},
   "outputs": [
    {
     "data": {
      "text/plain": [
       "1.25"
      ]
     },
     "execution_count": 168,
     "metadata": {},
     "output_type": "execute_result"
    }
   ],
   "source": [
    "a = np.array([[1, 2], [3, 4]])\n",
    "np.var(a)"
   ]
  },
  {
   "cell_type": "code",
   "execution_count": 169,
   "id": "a6ca2cc0",
   "metadata": {},
   "outputs": [
    {
     "data": {
      "text/plain": [
       "2.5"
      ]
     },
     "execution_count": 169,
     "metadata": {},
     "output_type": "execute_result"
    }
   ],
   "source": [
    "np.mean(a)"
   ]
  },
  {
   "cell_type": "code",
   "execution_count": 170,
   "id": "791ca9e8",
   "metadata": {},
   "outputs": [],
   "source": [
    "a = np.array([[1, 2], [3, 4]])"
   ]
  },
  {
   "cell_type": "code",
   "execution_count": 171,
   "id": "4c5573d1",
   "metadata": {},
   "outputs": [
    {
     "data": {
      "text/plain": [
       "array([1, 2])"
      ]
     },
     "execution_count": 171,
     "metadata": {},
     "output_type": "execute_result"
    }
   ],
   "source": [
    "np.min(a,axis=0)"
   ]
  },
  {
   "cell_type": "code",
   "execution_count": 172,
   "id": "1d9da253",
   "metadata": {},
   "outputs": [
    {
     "data": {
      "text/plain": [
       "array([1, 3])"
      ]
     },
     "execution_count": 172,
     "metadata": {},
     "output_type": "execute_result"
    }
   ],
   "source": [
    "np.min(a,axis=1)"
   ]
  },
  {
   "cell_type": "code",
   "execution_count": 173,
   "id": "3d7c6ebd",
   "metadata": {},
   "outputs": [
    {
     "data": {
      "text/plain": [
       "array([1.        , 1.73205081, 6.70820393, 7.28010989, 4.69041576,\n",
       "       8.1240384 , 2.        ])"
      ]
     },
     "execution_count": 173,
     "metadata": {},
     "output_type": "execute_result"
    }
   ],
   "source": [
    "np.sqrt(x)"
   ]
  },
  {
   "cell_type": "code",
   "execution_count": 174,
   "id": "a807554e",
   "metadata": {},
   "outputs": [
    {
     "data": {
      "text/plain": [
       "array([ 0.84147098,  0.14112001,  0.85090352,  0.39592515, -0.00885131,\n",
       "       -0.02655115, -0.7568025 ])"
      ]
     },
     "execution_count": 174,
     "metadata": {},
     "output_type": "execute_result"
    }
   ],
   "source": [
    "np.sin(x)"
   ]
  },
  {
   "cell_type": "code",
   "execution_count": 175,
   "id": "95e4e905",
   "metadata": {},
   "outputs": [
    {
     "data": {
      "text/plain": [
       "array([  1,   4,  49, 102, 124, 190, 194])"
      ]
     },
     "execution_count": 175,
     "metadata": {},
     "output_type": "execute_result"
    }
   ],
   "source": [
    "np.cumsum(x)"
   ]
  },
  {
   "cell_type": "code",
   "execution_count": 176,
   "id": "875494fb",
   "metadata": {},
   "outputs": [
    {
     "data": {
      "text/plain": [
       "array([       1,        3,      135,     7155,   157410, 10389060,\n",
       "       41556240])"
      ]
     },
     "execution_count": 176,
     "metadata": {},
     "output_type": "execute_result"
    }
   ],
   "source": [
    "np.cumproduct(x)"
   ]
  },
  {
   "cell_type": "code",
   "execution_count": 177,
   "id": "a4fd1b03",
   "metadata": {},
   "outputs": [],
   "source": [
    "a = np.array([[10, 7, 4], [3, 2, 1]])"
   ]
  },
  {
   "cell_type": "code",
   "execution_count": 178,
   "id": "02e0d599",
   "metadata": {},
   "outputs": [
    {
     "data": {
      "text/plain": [
       "array([[10,  7,  4],\n",
       "       [ 3,  2,  1]])"
      ]
     },
     "execution_count": 178,
     "metadata": {},
     "output_type": "execute_result"
    }
   ],
   "source": [
    "a"
   ]
  },
  {
   "cell_type": "code",
   "execution_count": 179,
   "id": "e63a29c2",
   "metadata": {},
   "outputs": [
    {
     "data": {
      "text/plain": [
       "3.0"
      ]
     },
     "execution_count": 179,
     "metadata": {},
     "output_type": "execute_result"
    }
   ],
   "source": [
    "np.percentile(a,40)"
   ]
  },
  {
   "cell_type": "code",
   "execution_count": 180,
   "id": "8bd1d176",
   "metadata": {},
   "outputs": [
    {
     "data": {
      "text/plain": [
       "3.5"
      ]
     },
     "execution_count": 180,
     "metadata": {},
     "output_type": "execute_result"
    }
   ],
   "source": [
    "np.quantile(a,0.50)"
   ]
  },
  {
   "cell_type": "code",
   "execution_count": 181,
   "id": "4c3958d2",
   "metadata": {},
   "outputs": [],
   "source": [
    "a = np.array([[10., 7., 4.], [3., 2., 1.]])\n",
    "a[0][1] = np.nan"
   ]
  },
  {
   "cell_type": "code",
   "execution_count": 182,
   "id": "223b3155",
   "metadata": {},
   "outputs": [
    {
     "data": {
      "text/plain": [
       "array([[10., nan,  4.],\n",
       "       [ 3.,  2.,  1.]])"
      ]
     },
     "execution_count": 182,
     "metadata": {},
     "output_type": "execute_result"
    }
   ],
   "source": [
    "a"
   ]
  },
  {
   "cell_type": "code",
   "execution_count": 183,
   "id": "3c916484",
   "metadata": {},
   "outputs": [
    {
     "data": {
      "text/plain": [
       "nan"
      ]
     },
     "execution_count": 183,
     "metadata": {},
     "output_type": "execute_result"
    }
   ],
   "source": [
    "np.percentile(a, 50)"
   ]
  },
  {
   "cell_type": "code",
   "execution_count": 184,
   "id": "26440cf8",
   "metadata": {},
   "outputs": [
    {
     "data": {
      "text/plain": [
       "3.0"
      ]
     },
     "execution_count": 184,
     "metadata": {},
     "output_type": "execute_result"
    }
   ],
   "source": [
    "np.nanpercentile(a, 50)"
   ]
  },
  {
   "cell_type": "code",
   "execution_count": 185,
   "id": "53349d7d",
   "metadata": {},
   "outputs": [
    {
     "data": {
      "text/plain": [
       "(array([0, 2, 1]), array([0, 1, 2, 3]))"
      ]
     },
     "execution_count": 185,
     "metadata": {},
     "output_type": "execute_result"
    }
   ],
   "source": [
    "np.histogram([1, 2, 1], bins=[0, 1, 2, 3])"
   ]
  },
  {
   "cell_type": "markdown",
   "id": "b94e2088",
   "metadata": {},
   "source": [
    "# Broadcasting with NumPy Arrays"
   ]
  },
  {
   "cell_type": "code",
   "execution_count": 186,
   "id": "d3e248d1",
   "metadata": {},
   "outputs": [],
   "source": [
    "x11 = np.array([1,2,4,5])\n",
    "x22 = np.array([3,4,5])"
   ]
  },
  {
   "cell_type": "code",
   "execution_count": 187,
   "id": "74a747f8",
   "metadata": {},
   "outputs": [
    {
     "ename": "ValueError",
     "evalue": "operands could not be broadcast together with shapes (4,) (3,) ",
     "output_type": "error",
     "traceback": [
      "\u001b[0;31m---------------------------------------------------------------------------\u001b[0m",
      "\u001b[0;31mValueError\u001b[0m                                Traceback (most recent call last)",
      "\u001b[0;32m/tmp/ipykernel_147241/2012984209.py\u001b[0m in \u001b[0;36m<module>\u001b[0;34m\u001b[0m\n\u001b[0;32m----> 1\u001b[0;31m \u001b[0mx11\u001b[0m\u001b[0;34m+\u001b[0m\u001b[0mx22\u001b[0m\u001b[0;34m\u001b[0m\u001b[0;34m\u001b[0m\u001b[0m\n\u001b[0m",
      "\u001b[0;31mValueError\u001b[0m: operands could not be broadcast together with shapes (4,) (3,) "
     ]
    }
   ],
   "source": [
    "x11+x22"
   ]
  },
  {
   "cell_type": "code",
   "execution_count": 188,
   "id": "481afc99",
   "metadata": {},
   "outputs": [
    {
     "data": {
      "text/plain": [
       "(4,)"
      ]
     },
     "execution_count": 188,
     "metadata": {},
     "output_type": "execute_result"
    }
   ],
   "source": [
    "x11.shape"
   ]
  },
  {
   "cell_type": "code",
   "execution_count": 189,
   "id": "336fe940",
   "metadata": {},
   "outputs": [
    {
     "data": {
      "text/plain": [
       "(3,)"
      ]
     },
     "execution_count": 189,
     "metadata": {},
     "output_type": "execute_result"
    }
   ],
   "source": [
    "x22.shape"
   ]
  },
  {
   "cell_type": "code",
   "execution_count": 190,
   "id": "e8fdcd52",
   "metadata": {},
   "outputs": [],
   "source": [
    "x33 = np.array([1,2,3])\n",
    "x44 = np.array([[1],[2],[3]])"
   ]
  },
  {
   "cell_type": "code",
   "execution_count": 191,
   "id": "f055c288",
   "metadata": {},
   "outputs": [
    {
     "data": {
      "text/plain": [
       "(3,)"
      ]
     },
     "execution_count": 191,
     "metadata": {},
     "output_type": "execute_result"
    }
   ],
   "source": [
    "x33.shape"
   ]
  },
  {
   "cell_type": "code",
   "execution_count": 192,
   "id": "b3eb66f3",
   "metadata": {},
   "outputs": [
    {
     "data": {
      "text/plain": [
       "(3, 1)"
      ]
     },
     "execution_count": 192,
     "metadata": {},
     "output_type": "execute_result"
    }
   ],
   "source": [
    "x44.shape"
   ]
  },
  {
   "cell_type": "code",
   "execution_count": 193,
   "id": "b4b325d6",
   "metadata": {},
   "outputs": [
    {
     "data": {
      "text/plain": [
       "array([[1, 2, 3],\n",
       "       [2, 4, 6],\n",
       "       [3, 6, 9]])"
      ]
     },
     "execution_count": 193,
     "metadata": {},
     "output_type": "execute_result"
    }
   ],
   "source": [
    "x33*x44"
   ]
  },
  {
   "cell_type": "markdown",
   "id": "fc86398a",
   "metadata": {},
   "source": [
    "# Indexing & Slicing"
   ]
  },
  {
   "cell_type": "markdown",
   "id": "8aad4cbc",
   "metadata": {},
   "source": [
    "### indexing"
   ]
  },
  {
   "cell_type": "code",
   "execution_count": 194,
   "id": "baca5bb5",
   "metadata": {},
   "outputs": [],
   "source": [
    "arr1 = np.array([2,3,4,5,6])"
   ]
  },
  {
   "cell_type": "code",
   "execution_count": 195,
   "id": "4a50d7aa",
   "metadata": {},
   "outputs": [],
   "source": [
    "arr2 = np.array([[9,8,7 ],[4,5,6]])"
   ]
  },
  {
   "cell_type": "code",
   "execution_count": 196,
   "id": "7691753d",
   "metadata": {},
   "outputs": [
    {
     "data": {
      "text/plain": [
       "array([2, 3, 4, 5, 6])"
      ]
     },
     "execution_count": 196,
     "metadata": {},
     "output_type": "execute_result"
    }
   ],
   "source": [
    "arr1"
   ]
  },
  {
   "cell_type": "code",
   "execution_count": 197,
   "id": "baeba020",
   "metadata": {},
   "outputs": [
    {
     "data": {
      "text/plain": [
       "array([[9, 8, 7],\n",
       "       [4, 5, 6]])"
      ]
     },
     "execution_count": 197,
     "metadata": {},
     "output_type": "execute_result"
    }
   ],
   "source": [
    "arr2"
   ]
  },
  {
   "cell_type": "code",
   "execution_count": 198,
   "id": "a769db00",
   "metadata": {},
   "outputs": [
    {
     "data": {
      "text/plain": [
       "2"
      ]
     },
     "execution_count": 198,
     "metadata": {},
     "output_type": "execute_result"
    }
   ],
   "source": [
    "arr1[0]"
   ]
  },
  {
   "cell_type": "code",
   "execution_count": 199,
   "id": "40022b96",
   "metadata": {},
   "outputs": [
    {
     "data": {
      "text/plain": [
       "5"
      ]
     },
     "execution_count": 199,
     "metadata": {},
     "output_type": "execute_result"
    }
   ],
   "source": [
    "arr1[3]"
   ]
  },
  {
   "cell_type": "code",
   "execution_count": 200,
   "id": "206385a6",
   "metadata": {},
   "outputs": [
    {
     "data": {
      "text/plain": [
       "6"
      ]
     },
     "execution_count": 200,
     "metadata": {},
     "output_type": "execute_result"
    }
   ],
   "source": [
    "arr1[-1]"
   ]
  },
  {
   "cell_type": "code",
   "execution_count": 201,
   "id": "63eaed04",
   "metadata": {},
   "outputs": [
    {
     "data": {
      "text/plain": [
       "4"
      ]
     },
     "execution_count": 201,
     "metadata": {},
     "output_type": "execute_result"
    }
   ],
   "source": [
    "arr1[-3]"
   ]
  },
  {
   "cell_type": "code",
   "execution_count": 202,
   "id": "78104033",
   "metadata": {},
   "outputs": [
    {
     "data": {
      "text/plain": [
       "array([[9, 8, 7],\n",
       "       [4, 5, 6]])"
      ]
     },
     "execution_count": 202,
     "metadata": {},
     "output_type": "execute_result"
    }
   ],
   "source": [
    "arr2"
   ]
  },
  {
   "cell_type": "code",
   "execution_count": 203,
   "id": "2cdec646",
   "metadata": {},
   "outputs": [
    {
     "data": {
      "text/plain": [
       "2"
      ]
     },
     "execution_count": 203,
     "metadata": {},
     "output_type": "execute_result"
    }
   ],
   "source": [
    "arr2.ndim"
   ]
  },
  {
   "cell_type": "code",
   "execution_count": 204,
   "id": "21cfca95",
   "metadata": {},
   "outputs": [
    {
     "data": {
      "text/plain": [
       "8"
      ]
     },
     "execution_count": 204,
     "metadata": {},
     "output_type": "execute_result"
    }
   ],
   "source": [
    "arr2[0][1]"
   ]
  },
  {
   "cell_type": "code",
   "execution_count": 205,
   "id": "55445827",
   "metadata": {},
   "outputs": [
    {
     "data": {
      "text/plain": [
       "8"
      ]
     },
     "execution_count": 205,
     "metadata": {},
     "output_type": "execute_result"
    }
   ],
   "source": [
    "arr2[0][-2]"
   ]
  },
  {
   "cell_type": "code",
   "execution_count": 206,
   "id": "78413807",
   "metadata": {},
   "outputs": [
    {
     "data": {
      "text/plain": [
       "8"
      ]
     },
     "execution_count": 206,
     "metadata": {},
     "output_type": "execute_result"
    }
   ],
   "source": [
    "arr2[0,-2]"
   ]
  },
  {
   "cell_type": "code",
   "execution_count": 207,
   "id": "aa2d6921",
   "metadata": {},
   "outputs": [],
   "source": [
    "arr3 = np.array([[[1,2,6,7,8],[3,4,23,45,55],[5,6,22,46,66]]])"
   ]
  },
  {
   "cell_type": "code",
   "execution_count": 208,
   "id": "c842d8aa",
   "metadata": {},
   "outputs": [
    {
     "data": {
      "text/plain": [
       "array([[[ 1,  2,  6,  7,  8],\n",
       "        [ 3,  4, 23, 45, 55],\n",
       "        [ 5,  6, 22, 46, 66]]])"
      ]
     },
     "execution_count": 208,
     "metadata": {},
     "output_type": "execute_result"
    }
   ],
   "source": [
    "arr3"
   ]
  },
  {
   "cell_type": "code",
   "execution_count": 209,
   "id": "628d7fb4",
   "metadata": {},
   "outputs": [
    {
     "data": {
      "text/plain": [
       "3"
      ]
     },
     "execution_count": 209,
     "metadata": {},
     "output_type": "execute_result"
    }
   ],
   "source": [
    "arr3.ndim"
   ]
  },
  {
   "cell_type": "code",
   "execution_count": 210,
   "id": "9745b38d",
   "metadata": {},
   "outputs": [
    {
     "data": {
      "text/plain": [
       "2"
      ]
     },
     "execution_count": 210,
     "metadata": {},
     "output_type": "execute_result"
    }
   ],
   "source": [
    "arr3[0,0,1]"
   ]
  },
  {
   "cell_type": "markdown",
   "id": "494ff50f",
   "metadata": {},
   "source": [
    "### Slicing numpy array"
   ]
  },
  {
   "cell_type": "code",
   "execution_count": 211,
   "id": "69ccf4d4",
   "metadata": {},
   "outputs": [
    {
     "data": {
      "text/plain": [
       "array([2, 6, 7])"
      ]
     },
     "execution_count": 211,
     "metadata": {},
     "output_type": "execute_result"
    }
   ],
   "source": [
    "arr3[0,0,1:4]"
   ]
  },
  {
   "cell_type": "markdown",
   "id": "6af24a1f",
   "metadata": {},
   "source": [
    "# NumPy Array Iterating"
   ]
  },
  {
   "cell_type": "code",
   "execution_count": 212,
   "id": "be6cf627",
   "metadata": {},
   "outputs": [
    {
     "name": "stdout",
     "output_type": "stream",
     "text": [
      "9\n",
      "8\n",
      "7\n",
      "5\n",
      "6\n",
      "4\n",
      "2\n",
      "1\n"
     ]
    }
   ],
   "source": [
    "x = np.array([9,8,7,5,6,4,2,1])\n",
    "\n",
    "for i in x:\n",
    "    print(i)\n",
    "    "
   ]
  },
  {
   "cell_type": "code",
   "execution_count": 213,
   "id": "cf595e55",
   "metadata": {},
   "outputs": [],
   "source": [
    "xy = np.array([[2,3,4,5],[6,7,8,9]])"
   ]
  },
  {
   "cell_type": "code",
   "execution_count": 214,
   "id": "f13c4ffd",
   "metadata": {},
   "outputs": [
    {
     "name": "stdout",
     "output_type": "stream",
     "text": [
      "2\n",
      "3\n",
      "4\n",
      "5\n",
      "6\n",
      "7\n",
      "8\n",
      "9\n"
     ]
    }
   ],
   "source": [
    "for i in xy:\n",
    "    for j in i:\n",
    "        print(j)"
   ]
  },
  {
   "cell_type": "code",
   "execution_count": 215,
   "id": "a45d28db",
   "metadata": {},
   "outputs": [
    {
     "name": "stdout",
     "output_type": "stream",
     "text": [
      "1\n",
      "3\n",
      "4\n",
      "6\n",
      "7\n",
      "9\n"
     ]
    }
   ],
   "source": [
    "xyz = np.array([[[1,3],[4,6],[7,9]]])\n",
    "\n",
    "for i in xyz:\n",
    "    for j in i:\n",
    "        for k in j:\n",
    "            print(k)"
   ]
  },
  {
   "cell_type": "code",
   "execution_count": 216,
   "id": "317272e0",
   "metadata": {},
   "outputs": [
    {
     "name": "stdout",
     "output_type": "stream",
     "text": [
      "1\n",
      "3\n",
      "4\n",
      "6\n",
      "7\n",
      "9\n"
     ]
    }
   ],
   "source": [
    "for i in np.nditer(xyz):\n",
    "    print(i)"
   ]
  },
  {
   "cell_type": "code",
   "execution_count": 217,
   "id": "f04e92c5",
   "metadata": {},
   "outputs": [],
   "source": [
    "result = np.nditer(x)"
   ]
  },
  {
   "cell_type": "code",
   "execution_count": 218,
   "id": "09d1a590",
   "metadata": {},
   "outputs": [
    {
     "name": "stdout",
     "output_type": "stream",
     "text": [
      "9\n",
      "8\n",
      "7\n",
      "5\n",
      "6\n",
      "4\n",
      "2\n",
      "1\n"
     ]
    }
   ],
   "source": [
    "for i in result:\n",
    "    print(i)"
   ]
  },
  {
   "cell_type": "code",
   "execution_count": 219,
   "id": "1a497030",
   "metadata": {},
   "outputs": [
    {
     "name": "stdout",
     "output_type": "stream",
     "text": [
      "(0, 0, 0) 1\n",
      "(0, 0, 1) 3\n",
      "(0, 1, 0) 4\n",
      "(0, 1, 1) 6\n",
      "(0, 2, 0) 7\n",
      "(0, 2, 1) 9\n"
     ]
    }
   ],
   "source": [
    "for index,item in np.ndenumerate(xyz):\n",
    "    print(index,item)"
   ]
  },
  {
   "cell_type": "markdown",
   "id": "daa598ca",
   "metadata": {},
   "source": [
    "#  The Difference Between Copy and View"
   ]
  },
  {
   "cell_type": "code",
   "execution_count": 220,
   "id": "6a677ebf",
   "metadata": {},
   "outputs": [],
   "source": [
    "cp_arr = np.array([1,2,3,4,5])"
   ]
  },
  {
   "cell_type": "code",
   "execution_count": 221,
   "id": "97752e31",
   "metadata": {},
   "outputs": [
    {
     "data": {
      "text/plain": [
       "array([1, 2, 3, 4, 5])"
      ]
     },
     "execution_count": 221,
     "metadata": {},
     "output_type": "execute_result"
    }
   ],
   "source": [
    "cp_arr"
   ]
  },
  {
   "cell_type": "code",
   "execution_count": 222,
   "id": "4b6cc4be",
   "metadata": {},
   "outputs": [],
   "source": [
    "copy_arr = cp_arr.copy()"
   ]
  },
  {
   "cell_type": "code",
   "execution_count": 223,
   "id": "7ffb42e3",
   "metadata": {},
   "outputs": [
    {
     "data": {
      "text/plain": [
       "array([1, 2, 3, 4, 5])"
      ]
     },
     "execution_count": 223,
     "metadata": {},
     "output_type": "execute_result"
    }
   ],
   "source": [
    "copy_arr"
   ]
  },
  {
   "cell_type": "code",
   "execution_count": 224,
   "id": "1c86d7d1",
   "metadata": {},
   "outputs": [],
   "source": [
    "vi_arr = np.array([9,8,7,6,5])"
   ]
  },
  {
   "cell_type": "code",
   "execution_count": 225,
   "id": "e51da542",
   "metadata": {},
   "outputs": [
    {
     "data": {
      "text/plain": [
       "array([9, 8, 7, 6, 5])"
      ]
     },
     "execution_count": 225,
     "metadata": {},
     "output_type": "execute_result"
    }
   ],
   "source": [
    "vi_arr"
   ]
  },
  {
   "cell_type": "code",
   "execution_count": 226,
   "id": "d416cab0",
   "metadata": {},
   "outputs": [],
   "source": [
    "view_arr = vi_arr.view()"
   ]
  },
  {
   "cell_type": "code",
   "execution_count": 227,
   "id": "5ba09e43",
   "metadata": {},
   "outputs": [
    {
     "data": {
      "text/plain": [
       "array([9, 8, 7, 6, 5])"
      ]
     },
     "execution_count": 227,
     "metadata": {},
     "output_type": "execute_result"
    }
   ],
   "source": [
    "view_arr"
   ]
  },
  {
   "cell_type": "code",
   "execution_count": 228,
   "id": "400b3419",
   "metadata": {},
   "outputs": [],
   "source": [
    "cp_arr[1] = 44"
   ]
  },
  {
   "cell_type": "code",
   "execution_count": 229,
   "id": "16b4ae3f",
   "metadata": {},
   "outputs": [
    {
     "data": {
      "text/plain": [
       "array([ 1, 44,  3,  4,  5])"
      ]
     },
     "execution_count": 229,
     "metadata": {},
     "output_type": "execute_result"
    }
   ],
   "source": [
    "cp_arr"
   ]
  },
  {
   "cell_type": "code",
   "execution_count": 230,
   "id": "ea3eb939",
   "metadata": {},
   "outputs": [
    {
     "data": {
      "text/plain": [
       "array([1, 2, 3, 4, 5])"
      ]
     },
     "execution_count": 230,
     "metadata": {},
     "output_type": "execute_result"
    }
   ],
   "source": [
    "copy_arr"
   ]
  },
  {
   "cell_type": "code",
   "execution_count": 231,
   "id": "86c359a6",
   "metadata": {},
   "outputs": [],
   "source": [
    "view_arr[0] =33"
   ]
  },
  {
   "cell_type": "code",
   "execution_count": 232,
   "id": "375d83c3",
   "metadata": {},
   "outputs": [
    {
     "data": {
      "text/plain": [
       "array([33,  8,  7,  6,  5])"
      ]
     },
     "execution_count": 232,
     "metadata": {},
     "output_type": "execute_result"
    }
   ],
   "source": [
    "view_arr"
   ]
  },
  {
   "cell_type": "code",
   "execution_count": 233,
   "id": "78128cb9",
   "metadata": {},
   "outputs": [
    {
     "data": {
      "text/plain": [
       "array([33,  8,  7,  6,  5])"
      ]
     },
     "execution_count": 233,
     "metadata": {},
     "output_type": "execute_result"
    }
   ],
   "source": [
    "vi_arr"
   ]
  },
  {
   "cell_type": "markdown",
   "id": "5bf6b63f",
   "metadata": {},
   "source": [
    "# Join & Split Function in numpy array"
   ]
  },
  {
   "cell_type": "markdown",
   "id": "a4656dc1",
   "metadata": {},
   "source": [
    "### join array "
   ]
  },
  {
   "cell_type": "code",
   "execution_count": 234,
   "id": "55e95fea",
   "metadata": {},
   "outputs": [],
   "source": [
    "j1 = np.array([1,2,3,4])\n",
    "j2 = np.array([9,8,7,6])"
   ]
  },
  {
   "cell_type": "code",
   "execution_count": 235,
   "id": "bfc5cb9c",
   "metadata": {},
   "outputs": [],
   "source": [
    "j3 = np.concatenate((j1,j2))"
   ]
  },
  {
   "cell_type": "code",
   "execution_count": 236,
   "id": "48f3dac6",
   "metadata": {},
   "outputs": [
    {
     "data": {
      "text/plain": [
       "array([1, 2, 3, 4, 9, 8, 7, 6])"
      ]
     },
     "execution_count": 236,
     "metadata": {},
     "output_type": "execute_result"
    }
   ],
   "source": [
    "j3"
   ]
  },
  {
   "cell_type": "code",
   "execution_count": 237,
   "id": "acc8293e",
   "metadata": {},
   "outputs": [],
   "source": [
    "j4 = np.concatenate((j2,j1))"
   ]
  },
  {
   "cell_type": "code",
   "execution_count": 238,
   "id": "59894eb9",
   "metadata": {},
   "outputs": [
    {
     "data": {
      "text/plain": [
       "array([9, 8, 7, 6, 1, 2, 3, 4])"
      ]
     },
     "execution_count": 238,
     "metadata": {},
     "output_type": "execute_result"
    }
   ],
   "source": [
    "j4"
   ]
  },
  {
   "cell_type": "code",
   "execution_count": 239,
   "id": "445862ba",
   "metadata": {},
   "outputs": [],
   "source": [
    "j5 = np.array([[1,2,3],[4,5,6]])\n",
    "j6 = np.array([[7,8,9],[10,11,12]])"
   ]
  },
  {
   "cell_type": "code",
   "execution_count": 240,
   "id": "6dbed3a6",
   "metadata": {},
   "outputs": [],
   "source": [
    "j7 = np.concatenate((j5,j6))"
   ]
  },
  {
   "cell_type": "code",
   "execution_count": 241,
   "id": "586b129d",
   "metadata": {},
   "outputs": [
    {
     "data": {
      "text/plain": [
       "array([[ 1,  2,  3],\n",
       "       [ 4,  5,  6],\n",
       "       [ 7,  8,  9],\n",
       "       [10, 11, 12]])"
      ]
     },
     "execution_count": 241,
     "metadata": {},
     "output_type": "execute_result"
    }
   ],
   "source": [
    "j7"
   ]
  },
  {
   "cell_type": "code",
   "execution_count": 242,
   "id": "1b573f18",
   "metadata": {},
   "outputs": [],
   "source": [
    "j8 = np.concatenate((j5,j6),axis=1)"
   ]
  },
  {
   "cell_type": "code",
   "execution_count": 243,
   "id": "1230b17c",
   "metadata": {},
   "outputs": [
    {
     "data": {
      "text/plain": [
       "array([[ 1,  2,  3,  7,  8,  9],\n",
       "       [ 4,  5,  6, 10, 11, 12]])"
      ]
     },
     "execution_count": 243,
     "metadata": {},
     "output_type": "execute_result"
    }
   ],
   "source": [
    "j8"
   ]
  },
  {
   "cell_type": "code",
   "execution_count": 244,
   "id": "370d98c0",
   "metadata": {},
   "outputs": [],
   "source": [
    "j9 = np.concatenate((j5,j6),axis=0)"
   ]
  },
  {
   "cell_type": "code",
   "execution_count": 245,
   "id": "8540d3b4",
   "metadata": {},
   "outputs": [
    {
     "data": {
      "text/plain": [
       "array([[ 1,  2,  3],\n",
       "       [ 4,  5,  6],\n",
       "       [ 7,  8,  9],\n",
       "       [10, 11, 12]])"
      ]
     },
     "execution_count": 245,
     "metadata": {},
     "output_type": "execute_result"
    }
   ],
   "source": [
    "j9"
   ]
  },
  {
   "cell_type": "code",
   "execution_count": 246,
   "id": "40f44ca8",
   "metadata": {},
   "outputs": [],
   "source": [
    "j10 = np.stack((j5,j6))"
   ]
  },
  {
   "cell_type": "code",
   "execution_count": 247,
   "id": "58813f1b",
   "metadata": {},
   "outputs": [
    {
     "data": {
      "text/plain": [
       "array([[[ 1,  2,  3],\n",
       "        [ 4,  5,  6]],\n",
       "\n",
       "       [[ 7,  8,  9],\n",
       "        [10, 11, 12]]])"
      ]
     },
     "execution_count": 247,
     "metadata": {},
     "output_type": "execute_result"
    }
   ],
   "source": [
    "j10"
   ]
  },
  {
   "cell_type": "code",
   "execution_count": 248,
   "id": "935c0a6d",
   "metadata": {},
   "outputs": [],
   "source": [
    "j11 = np.stack((j5,j6),axis=1)"
   ]
  },
  {
   "cell_type": "code",
   "execution_count": 249,
   "id": "178725fd",
   "metadata": {},
   "outputs": [
    {
     "data": {
      "text/plain": [
       "array([[[ 1,  2,  3],\n",
       "        [ 7,  8,  9]],\n",
       "\n",
       "       [[ 4,  5,  6],\n",
       "        [10, 11, 12]]])"
      ]
     },
     "execution_count": 249,
     "metadata": {},
     "output_type": "execute_result"
    }
   ],
   "source": [
    "j11"
   ]
  },
  {
   "cell_type": "code",
   "execution_count": 250,
   "id": "97f2e2e7",
   "metadata": {},
   "outputs": [],
   "source": [
    "j12 = np.stack((j5,j6),axis=0)"
   ]
  },
  {
   "cell_type": "code",
   "execution_count": 251,
   "id": "cb8702f3",
   "metadata": {},
   "outputs": [
    {
     "data": {
      "text/plain": [
       "array([[[ 1,  2,  3],\n",
       "        [ 4,  5,  6]],\n",
       "\n",
       "       [[ 7,  8,  9],\n",
       "        [10, 11, 12]]])"
      ]
     },
     "execution_count": 251,
     "metadata": {},
     "output_type": "execute_result"
    }
   ],
   "source": [
    "j12"
   ]
  },
  {
   "cell_type": "code",
   "execution_count": 252,
   "id": "d846a123",
   "metadata": {},
   "outputs": [],
   "source": [
    "j13 = np.hstack((j5,j6))"
   ]
  },
  {
   "cell_type": "code",
   "execution_count": 253,
   "id": "3a13b757",
   "metadata": {},
   "outputs": [
    {
     "data": {
      "text/plain": [
       "array([[ 1,  2,  3,  7,  8,  9],\n",
       "       [ 4,  5,  6, 10, 11, 12]])"
      ]
     },
     "execution_count": 253,
     "metadata": {},
     "output_type": "execute_result"
    }
   ],
   "source": [
    "j13 "
   ]
  },
  {
   "cell_type": "code",
   "execution_count": 254,
   "id": "d469d59c",
   "metadata": {},
   "outputs": [],
   "source": [
    "j14 = np.vstack((j5,j6))"
   ]
  },
  {
   "cell_type": "code",
   "execution_count": 255,
   "id": "5ba93034",
   "metadata": {},
   "outputs": [
    {
     "data": {
      "text/plain": [
       "array([[ 1,  2,  3],\n",
       "       [ 4,  5,  6],\n",
       "       [ 7,  8,  9],\n",
       "       [10, 11, 12]])"
      ]
     },
     "execution_count": 255,
     "metadata": {},
     "output_type": "execute_result"
    }
   ],
   "source": [
    "j14"
   ]
  },
  {
   "cell_type": "code",
   "execution_count": 256,
   "id": "78512fd3",
   "metadata": {},
   "outputs": [],
   "source": [
    "j15 = np.dstack((j5,j6))"
   ]
  },
  {
   "cell_type": "code",
   "execution_count": 257,
   "id": "379e4b45",
   "metadata": {},
   "outputs": [
    {
     "data": {
      "text/plain": [
       "array([[[ 1,  7],\n",
       "        [ 2,  8],\n",
       "        [ 3,  9]],\n",
       "\n",
       "       [[ 4, 10],\n",
       "        [ 5, 11],\n",
       "        [ 6, 12]]])"
      ]
     },
     "execution_count": 257,
     "metadata": {},
     "output_type": "execute_result"
    }
   ],
   "source": [
    "j15"
   ]
  },
  {
   "cell_type": "code",
   "execution_count": 258,
   "id": "aad3c82d",
   "metadata": {},
   "outputs": [
    {
     "name": "stdout",
     "output_type": "stream",
     "text": [
      "[[1 2 3]\n",
      " [4 5 6]]\n",
      "[[ 7  8  9]\n",
      " [10 11 12]]\n"
     ]
    }
   ],
   "source": [
    "print(j5)\n",
    "print(j6)"
   ]
  },
  {
   "cell_type": "markdown",
   "id": "0943b50d",
   "metadata": {},
   "source": [
    "### numpy array split"
   ]
  },
  {
   "cell_type": "code",
   "execution_count": 259,
   "id": "8284e1e6",
   "metadata": {},
   "outputs": [
    {
     "name": "stdout",
     "output_type": "stream",
     "text": [
      "[1 2 3 4 5 6]\n"
     ]
    }
   ],
   "source": [
    "s1_arr = np.array([1,2,3,4,5,6])\n",
    "print(s1_arr)"
   ]
  },
  {
   "cell_type": "code",
   "execution_count": 260,
   "id": "264c6512",
   "metadata": {},
   "outputs": [],
   "source": [
    "s2_arr = np.array_split(s1_arr,2)"
   ]
  },
  {
   "cell_type": "code",
   "execution_count": 261,
   "id": "191ff508",
   "metadata": {},
   "outputs": [
    {
     "data": {
      "text/plain": [
       "[array([1, 2, 3]), array([4, 5, 6])]"
      ]
     },
     "execution_count": 261,
     "metadata": {},
     "output_type": "execute_result"
    }
   ],
   "source": [
    "s2_arr"
   ]
  },
  {
   "cell_type": "code",
   "execution_count": 262,
   "id": "6f27f4c1",
   "metadata": {},
   "outputs": [
    {
     "data": {
      "text/plain": [
       "array([1, 2, 3])"
      ]
     },
     "execution_count": 262,
     "metadata": {},
     "output_type": "execute_result"
    }
   ],
   "source": [
    "s2_arr[0]"
   ]
  },
  {
   "cell_type": "code",
   "execution_count": 264,
   "id": "948e703e",
   "metadata": {},
   "outputs": [],
   "source": [
    "s3_arr = np.array([[1,2],[3,4],[5,6]])"
   ]
  },
  {
   "cell_type": "code",
   "execution_count": 265,
   "id": "bd6950a1",
   "metadata": {},
   "outputs": [
    {
     "data": {
      "text/plain": [
       "array([[1, 2],\n",
       "       [3, 4],\n",
       "       [5, 6]])"
      ]
     },
     "execution_count": 265,
     "metadata": {},
     "output_type": "execute_result"
    }
   ],
   "source": [
    "s3_arr"
   ]
  },
  {
   "cell_type": "code",
   "execution_count": 268,
   "id": "8c872402",
   "metadata": {},
   "outputs": [],
   "source": [
    "s4 = np.array_split(s3_arr,2)"
   ]
  },
  {
   "cell_type": "code",
   "execution_count": 269,
   "id": "7ffb7237",
   "metadata": {},
   "outputs": [
    {
     "data": {
      "text/plain": [
       "[array([[1, 2],\n",
       "        [3, 4]]),\n",
       " array([[5, 6]])]"
      ]
     },
     "execution_count": 269,
     "metadata": {},
     "output_type": "execute_result"
    }
   ],
   "source": [
    "s4"
   ]
  },
  {
   "cell_type": "code",
   "execution_count": 272,
   "id": "237c8867",
   "metadata": {},
   "outputs": [
    {
     "data": {
      "text/plain": [
       "array([1, 2])"
      ]
     },
     "execution_count": 272,
     "metadata": {},
     "output_type": "execute_result"
    }
   ],
   "source": [
    "s4[0][0]"
   ]
  },
  {
   "cell_type": "code",
   "execution_count": 273,
   "id": "b53847cb",
   "metadata": {},
   "outputs": [
    {
     "data": {
      "text/plain": [
       "array([[1, 2],\n",
       "       [3, 4]])"
      ]
     },
     "execution_count": 273,
     "metadata": {},
     "output_type": "execute_result"
    }
   ],
   "source": [
    "s4[0]"
   ]
  },
  {
   "cell_type": "code",
   "execution_count": 274,
   "id": "ceeb02eb",
   "metadata": {},
   "outputs": [],
   "source": [
    "s5 = np.array_split(s3_arr, 4, axis=1)"
   ]
  },
  {
   "cell_type": "code",
   "execution_count": 275,
   "id": "98596d31",
   "metadata": {},
   "outputs": [
    {
     "data": {
      "text/plain": [
       "[array([[1],\n",
       "        [3],\n",
       "        [5]]),\n",
       " array([[2],\n",
       "        [4],\n",
       "        [6]]),\n",
       " array([], shape=(3, 0), dtype=int64),\n",
       " array([], shape=(3, 0), dtype=int64)]"
      ]
     },
     "execution_count": 275,
     "metadata": {},
     "output_type": "execute_result"
    }
   ],
   "source": [
    "s5"
   ]
  },
  {
   "cell_type": "code",
   "execution_count": 276,
   "id": "493db3a9",
   "metadata": {},
   "outputs": [
    {
     "data": {
      "text/plain": [
       "array([[1],\n",
       "       [3],\n",
       "       [5]])"
      ]
     },
     "execution_count": 276,
     "metadata": {},
     "output_type": "execute_result"
    }
   ],
   "source": [
    "s5[0]"
   ]
  },
  {
   "cell_type": "code",
   "execution_count": 277,
   "id": "e33b02d3",
   "metadata": {},
   "outputs": [
    {
     "data": {
      "text/plain": [
       "array([1])"
      ]
     },
     "execution_count": 277,
     "metadata": {},
     "output_type": "execute_result"
    }
   ],
   "source": [
    "s5[0][0]"
   ]
  },
  {
   "cell_type": "code",
   "execution_count": 278,
   "id": "5693a2b9",
   "metadata": {},
   "outputs": [
    {
     "data": {
      "text/plain": [
       "array([[1],\n",
       "       [3],\n",
       "       [5]])"
      ]
     },
     "execution_count": 278,
     "metadata": {},
     "output_type": "execute_result"
    }
   ],
   "source": [
    "s5[0][0:]"
   ]
  },
  {
   "cell_type": "markdown",
   "id": "2da70a66",
   "metadata": {},
   "source": [
    "# Search , Sort , Search Shorted, Filter Functions in numpy"
   ]
  },
  {
   "cell_type": "markdown",
   "id": "77d6cd3c",
   "metadata": {},
   "source": [
    "### search function in array\n",
    "#### search an array for a certain vaalue and return the indexes that get a match"
   ]
  },
  {
   "cell_type": "code",
   "execution_count": 279,
   "id": "a1872f60",
   "metadata": {},
   "outputs": [],
   "source": [
    "var = np.array([1,2,3,4,2,5,2,5,6,7])"
   ]
  },
  {
   "cell_type": "code",
   "execution_count": 280,
   "id": "d77e78ce",
   "metadata": {},
   "outputs": [],
   "source": [
    "x = np.where(var == 2)"
   ]
  },
  {
   "cell_type": "code",
   "execution_count": 281,
   "id": "dfb5024f",
   "metadata": {},
   "outputs": [
    {
     "data": {
      "text/plain": [
       "(array([1, 4, 6]),)"
      ]
     },
     "execution_count": 281,
     "metadata": {},
     "output_type": "execute_result"
    }
   ],
   "source": [
    "x"
   ]
  },
  {
   "cell_type": "code",
   "execution_count": 292,
   "id": "5cd92b2e",
   "metadata": {},
   "outputs": [],
   "source": [
    " var1 = np.array([1,2,3,4,8,9,10])"
   ]
  },
  {
   "cell_type": "code",
   "execution_count": 288,
   "id": "5b233419",
   "metadata": {},
   "outputs": [],
   "source": [
    "x1 = np.searchsorted(var1, 5)"
   ]
  },
  {
   "cell_type": "code",
   "execution_count": 289,
   "id": "715bc6db",
   "metadata": {},
   "outputs": [
    {
     "data": {
      "text/plain": [
       "4"
      ]
     },
     "execution_count": 289,
     "metadata": {},
     "output_type": "execute_result"
    }
   ],
   "source": [
    "x1"
   ]
  },
  {
   "cell_type": "code",
   "execution_count": 290,
   "id": "6a7c8ace",
   "metadata": {},
   "outputs": [],
   "source": [
    "x2 = np.searchsorted(var1, 5, side='right')"
   ]
  },
  {
   "cell_type": "code",
   "execution_count": 291,
   "id": "547045db",
   "metadata": {},
   "outputs": [
    {
     "data": {
      "text/plain": [
       "4"
      ]
     },
     "execution_count": 291,
     "metadata": {},
     "output_type": "execute_result"
    }
   ],
   "source": [
    "x2"
   ]
  },
  {
   "cell_type": "code",
   "execution_count": 293,
   "id": "4271d1c9",
   "metadata": {},
   "outputs": [],
   "source": [
    "x3 = np.searchsorted(var1, [5,6,7], side='right')"
   ]
  },
  {
   "cell_type": "code",
   "execution_count": 294,
   "id": "281ab26b",
   "metadata": {},
   "outputs": [
    {
     "data": {
      "text/plain": [
       "array([4, 4, 4])"
      ]
     },
     "execution_count": 294,
     "metadata": {},
     "output_type": "execute_result"
    }
   ],
   "source": [
    "x3"
   ]
  },
  {
   "cell_type": "markdown",
   "id": "f81151df",
   "metadata": {},
   "source": [
    "### sort function"
   ]
  },
  {
   "cell_type": "code",
   "execution_count": 295,
   "id": "677c4a84",
   "metadata": {},
   "outputs": [],
   "source": [
    "var_1 = np.array([1,3,5,2,44,7,6,55]) "
   ]
  },
  {
   "cell_type": "code",
   "execution_count": 296,
   "id": "900d534b",
   "metadata": {},
   "outputs": [
    {
     "data": {
      "text/plain": [
       "array([ 1,  2,  3,  5,  6,  7, 44, 55])"
      ]
     },
     "execution_count": 296,
     "metadata": {},
     "output_type": "execute_result"
    }
   ],
   "source": [
    "np.sort(var_1)"
   ]
  },
  {
   "cell_type": "code",
   "execution_count": 297,
   "id": "9b4aa26f",
   "metadata": {},
   "outputs": [],
   "source": [
    "var_2 = np.array(['s','t','a','e'])"
   ]
  },
  {
   "cell_type": "code",
   "execution_count": 298,
   "id": "6132b253",
   "metadata": {},
   "outputs": [
    {
     "data": {
      "text/plain": [
       "array(['a', 'e', 's', 't'], dtype='<U1')"
      ]
     },
     "execution_count": 298,
     "metadata": {},
     "output_type": "execute_result"
    }
   ],
   "source": [
    "np.sort(var_2)"
   ]
  },
  {
   "cell_type": "code",
   "execution_count": 299,
   "id": "8183fa1f",
   "metadata": {},
   "outputs": [],
   "source": [
    " var_3 = np.array([[4,3,2],[1,12,5],[22,52,6]])"
   ]
  },
  {
   "cell_type": "code",
   "execution_count": 300,
   "id": "aa104fc6",
   "metadata": {},
   "outputs": [
    {
     "data": {
      "text/plain": [
       "array([[ 2,  3,  4],\n",
       "       [ 1,  5, 12],\n",
       "       [ 6, 22, 52]])"
      ]
     },
     "execution_count": 300,
     "metadata": {},
     "output_type": "execute_result"
    }
   ],
   "source": [
    "np.sort(var_3)"
   ]
  },
  {
   "cell_type": "markdown",
   "id": "28c90f2f",
   "metadata": {},
   "source": [
    "### filter function"
   ]
  },
  {
   "cell_type": "code",
   "execution_count": 306,
   "id": "74489d83",
   "metadata": {},
   "outputs": [],
   "source": [
    "fil_arr = [True, False, True, False]"
   ]
  },
  {
   "cell_type": "code",
   "execution_count": 307,
   "id": "51daf17e",
   "metadata": {},
   "outputs": [],
   "source": [
    "var_4 = var_2[fil_arr]"
   ]
  },
  {
   "cell_type": "code",
   "execution_count": 308,
   "id": "010ecab0",
   "metadata": {},
   "outputs": [
    {
     "data": {
      "text/plain": [
       "array(['s', 'a'], dtype='<U1')"
      ]
     },
     "execution_count": 308,
     "metadata": {},
     "output_type": "execute_result"
    }
   ],
   "source": [
    "var_4"
   ]
  },
  {
   "cell_type": "markdown",
   "id": "f8cb20c5",
   "metadata": {},
   "source": [
    "# Numpy array Function"
   ]
  },
  {
   "cell_type": "markdown",
   "id": "9e2691f4",
   "metadata": {},
   "source": [
    "### shuffle function "
   ]
  },
  {
   "cell_type": "code",
   "execution_count": 309,
   "id": "caf637c3",
   "metadata": {},
   "outputs": [],
   "source": [
    "x = np.array([1,2,3,4,5,6])"
   ]
  },
  {
   "cell_type": "code",
   "execution_count": 316,
   "id": "1e3735c9",
   "metadata": {},
   "outputs": [],
   "source": [
    "np.random.shuffle(x)"
   ]
  },
  {
   "cell_type": "code",
   "execution_count": 317,
   "id": "327af7cb",
   "metadata": {},
   "outputs": [
    {
     "name": "stdout",
     "output_type": "stream",
     "text": [
      "[4 2 6 1 3 5]\n"
     ]
    }
   ],
   "source": [
    "print(x)"
   ]
  },
  {
   "cell_type": "code",
   "execution_count": 318,
   "id": "1152c359",
   "metadata": {},
   "outputs": [],
   "source": [
    "x1 = np.array([1,2,3,4,2,5,2,6,2,7])"
   ]
  },
  {
   "cell_type": "code",
   "execution_count": 319,
   "id": "055d41b2",
   "metadata": {},
   "outputs": [
    {
     "data": {
      "text/plain": [
       "array([1, 2, 3, 4, 2, 5, 2, 6, 2, 7])"
      ]
     },
     "execution_count": 319,
     "metadata": {},
     "output_type": "execute_result"
    }
   ],
   "source": [
    "x1"
   ]
  },
  {
   "cell_type": "code",
   "execution_count": 320,
   "id": "036e3075",
   "metadata": {},
   "outputs": [],
   "source": [
    "x2 = np.unique(x1)"
   ]
  },
  {
   "cell_type": "code",
   "execution_count": 321,
   "id": "0e6d8482",
   "metadata": {},
   "outputs": [
    {
     "data": {
      "text/plain": [
       "array([1, 2, 3, 4, 5, 6, 7])"
      ]
     },
     "execution_count": 321,
     "metadata": {},
     "output_type": "execute_result"
    }
   ],
   "source": [
    "x2"
   ]
  },
  {
   "cell_type": "code",
   "execution_count": 322,
   "id": "3cdbec3f",
   "metadata": {},
   "outputs": [],
   "source": [
    "x3 = np.unique(x1, return_index= True)"
   ]
  },
  {
   "cell_type": "code",
   "execution_count": 323,
   "id": "e219343d",
   "metadata": {},
   "outputs": [
    {
     "data": {
      "text/plain": [
       "(array([1, 2, 3, 4, 5, 6, 7]), array([0, 1, 2, 3, 5, 7, 9]))"
      ]
     },
     "execution_count": 323,
     "metadata": {},
     "output_type": "execute_result"
    }
   ],
   "source": [
    "x3"
   ]
  },
  {
   "cell_type": "code",
   "execution_count": 326,
   "id": "85037b9d",
   "metadata": {},
   "outputs": [],
   "source": [
    "x4 = np.unique(x1, return_index= True,return_counts=True)"
   ]
  },
  {
   "cell_type": "code",
   "execution_count": 327,
   "id": "0737505f",
   "metadata": {},
   "outputs": [
    {
     "data": {
      "text/plain": [
       "(array([1, 2, 3, 4, 5, 6, 7]),\n",
       " array([0, 1, 2, 3, 5, 7, 9]),\n",
       " array([1, 4, 1, 1, 1, 1, 1]))"
      ]
     },
     "execution_count": 327,
     "metadata": {},
     "output_type": "execute_result"
    }
   ],
   "source": [
    "x4"
   ]
  },
  {
   "cell_type": "markdown",
   "id": "7a70edaf",
   "metadata": {},
   "source": [
    "# Matrix in numpy"
   ]
  },
  {
   "cell_type": "code",
   "execution_count": 328,
   "id": "c72fb4ed",
   "metadata": {},
   "outputs": [],
   "source": [
    "m1 = np.matrix([[1,2,3],[1,2,3]])"
   ]
  },
  {
   "cell_type": "code",
   "execution_count": 329,
   "id": "7070295d",
   "metadata": {},
   "outputs": [
    {
     "data": {
      "text/plain": [
       "matrix([[1, 2, 3],\n",
       "        [1, 2, 3]])"
      ]
     },
     "execution_count": 329,
     "metadata": {},
     "output_type": "execute_result"
    }
   ],
   "source": [
    "m1\n"
   ]
  },
  {
   "cell_type": "code",
   "execution_count": 330,
   "id": "d38e13ae",
   "metadata": {},
   "outputs": [
    {
     "data": {
      "text/plain": [
       "numpy.matrix"
      ]
     },
     "execution_count": 330,
     "metadata": {},
     "output_type": "execute_result"
    }
   ],
   "source": [
    "type(m1)"
   ]
  },
  {
   "cell_type": "code",
   "execution_count": 331,
   "id": "d4e3220f",
   "metadata": {},
   "outputs": [],
   "source": [
    "m2 = np.matrix([[1,2,3],[1,2,3]])"
   ]
  },
  {
   "cell_type": "code",
   "execution_count": 332,
   "id": "dcb492af",
   "metadata": {},
   "outputs": [
    {
     "data": {
      "text/plain": [
       "matrix([[2, 4, 6],\n",
       "        [2, 4, 6]])"
      ]
     },
     "execution_count": 332,
     "metadata": {},
     "output_type": "execute_result"
    }
   ],
   "source": [
    "m1+m2"
   ]
  },
  {
   "cell_type": "code",
   "execution_count": 333,
   "id": "83be5fea",
   "metadata": {},
   "outputs": [
    {
     "data": {
      "text/plain": [
       "matrix([[0, 0, 0],\n",
       "        [0, 0, 0]])"
      ]
     },
     "execution_count": 333,
     "metadata": {},
     "output_type": "execute_result"
    }
   ],
   "source": [
    "m1-m2"
   ]
  },
  {
   "cell_type": "code",
   "execution_count": 335,
   "id": "a834bbd8",
   "metadata": {},
   "outputs": [],
   "source": [
    "m3=np.matrix([[1,2,3],[4,5,6],[7,8,9]])\n",
    "m4=np.matrix([[1,2,3],[4,5,6],[7,8,9]])"
   ]
  },
  {
   "cell_type": "code",
   "execution_count": 336,
   "id": "1e7a480c",
   "metadata": {},
   "outputs": [
    {
     "data": {
      "text/plain": [
       "matrix([[ 30,  36,  42],\n",
       "        [ 66,  81,  96],\n",
       "        [102, 126, 150]])"
      ]
     },
     "execution_count": 336,
     "metadata": {},
     "output_type": "execute_result"
    }
   ],
   "source": [
    " m3*m4"
   ]
  },
  {
   "cell_type": "code",
   "execution_count": 337,
   "id": "a9ea9ff1",
   "metadata": {},
   "outputs": [
    {
     "data": {
      "text/plain": [
       "matrix([[1, 2, 3],\n",
       "        [4, 5, 6],\n",
       "        [7, 8, 9]])"
      ]
     },
     "execution_count": 337,
     "metadata": {},
     "output_type": "execute_result"
    }
   ],
   "source": [
    "m3"
   ]
  },
  {
   "cell_type": "code",
   "execution_count": 338,
   "id": "6aa6d240",
   "metadata": {},
   "outputs": [
    {
     "data": {
      "text/plain": [
       "matrix([[1, 2, 3],\n",
       "        [4, 5, 6],\n",
       "        [7, 8, 9]])"
      ]
     },
     "execution_count": 338,
     "metadata": {},
     "output_type": "execute_result"
    }
   ],
   "source": [
    "m4"
   ]
  },
  {
   "cell_type": "code",
   "execution_count": null,
   "id": "07ec66c9",
   "metadata": {},
   "outputs": [],
   "source": []
  }
 ],
 "metadata": {
  "kernelspec": {
   "display_name": "Python 3 (ipykernel)",
   "language": "python",
   "name": "python3"
  },
  "language_info": {
   "codemirror_mode": {
    "name": "ipython",
    "version": 3
   },
   "file_extension": ".py",
   "mimetype": "text/x-python",
   "name": "python",
   "nbconvert_exporter": "python",
   "pygments_lexer": "ipython3",
   "version": "3.8.10"
  }
 },
 "nbformat": 4,
 "nbformat_minor": 5
}
